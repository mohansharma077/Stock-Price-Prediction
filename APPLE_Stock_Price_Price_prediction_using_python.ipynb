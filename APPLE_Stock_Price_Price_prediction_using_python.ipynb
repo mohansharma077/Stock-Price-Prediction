{
  "nbformat": 4,
  "nbformat_minor": 0,
  "metadata": {
    "colab": {
      "provenance": [],
      "authorship_tag": "ABX9TyPL+K3GapKy9FNBXDtWncnb",
      "include_colab_link": true
    },
    "kernelspec": {
      "name": "python3",
      "display_name": "Python 3"
    },
    "language_info": {
      "name": "python"
    }
  },
  "cells": [
    {
      "cell_type": "markdown",
      "metadata": {
        "id": "view-in-github",
        "colab_type": "text"
      },
      "source": [
        "<a href=\"https://colab.research.google.com/github/mohansharma077/Stock-Price-Prediction-Using-Python-Machine-Learning/blob/main/APPLE_Stock_Price_Price_prediction_using_python.ipynb\" target=\"_parent\"><img src=\"https://colab.research.google.com/assets/colab-badge.svg\" alt=\"Open In Colab\"/></a>"
      ]
    },
    {
      "cell_type": "code",
      "execution_count": 88,
      "metadata": {
        "id": "8z6djy6Dehp-"
      },
      "outputs": [],
      "source": [
        "#This program uses an artificial recurrent neural network called LSTM (long short Term Memory)\n",
        "# to predict the the closing stock price of a corporation Apple Inc. using  past 60 days stock price"
      ]
    },
    {
      "cell_type": "code",
      "source": [
        "import math\n",
        "import pandas as pd\n",
        "import numpy as np\n",
        "from sklearn.preprocessing import MinMaxScaler\n",
        "from keras.models import Sequential\n",
        "from keras.layers import Dense,LSTM\n",
        "import matplotlib.pyplot as plt\n",
        "plt.style.use('fivethirtyeight')\n",
        "!pip install yfinance\n"
      ],
      "metadata": {
        "colab": {
          "base_uri": "https://localhost:8080/"
        },
        "id": "Gk-sGG9BfKAG",
        "outputId": "3026e977-5e54-49c7-864f-2afdbd8a3f77"
      },
      "execution_count": 89,
      "outputs": [
        {
          "output_type": "stream",
          "name": "stdout",
          "text": [
            "Looking in indexes: https://pypi.org/simple, https://us-python.pkg.dev/colab-wheels/public/simple/\n",
            "Requirement already satisfied: yfinance in /usr/local/lib/python3.8/dist-packages (0.2.3)\n",
            "Requirement already satisfied: html5lib>=1.1 in /usr/local/lib/python3.8/dist-packages (from yfinance) (1.1)\n",
            "Requirement already satisfied: requests>=2.26 in /usr/local/lib/python3.8/dist-packages (from yfinance) (2.28.1)\n",
            "Requirement already satisfied: cryptography>=3.3.2 in /usr/local/lib/python3.8/dist-packages (from yfinance) (39.0.0)\n",
            "Requirement already satisfied: lxml>=4.9.1 in /usr/local/lib/python3.8/dist-packages (from yfinance) (4.9.2)\n",
            "Requirement already satisfied: beautifulsoup4>=4.11.1 in /usr/local/lib/python3.8/dist-packages (from yfinance) (4.11.1)\n",
            "Requirement already satisfied: numpy>=1.16.5 in /usr/local/lib/python3.8/dist-packages (from yfinance) (1.21.6)\n",
            "Requirement already satisfied: pytz>=2022.5 in /usr/local/lib/python3.8/dist-packages (from yfinance) (2022.7)\n",
            "Requirement already satisfied: multitasking>=0.0.7 in /usr/local/lib/python3.8/dist-packages (from yfinance) (0.0.11)\n",
            "Requirement already satisfied: appdirs>=1.4.4 in /usr/local/lib/python3.8/dist-packages (from yfinance) (1.4.4)\n",
            "Requirement already satisfied: pandas>=1.3.0 in /usr/local/lib/python3.8/dist-packages (from yfinance) (1.3.5)\n",
            "Requirement already satisfied: frozendict>=2.3.4 in /usr/local/lib/python3.8/dist-packages (from yfinance) (2.3.4)\n",
            "Requirement already satisfied: soupsieve>1.2 in /usr/local/lib/python3.8/dist-packages (from beautifulsoup4>=4.11.1->yfinance) (2.3.2.post1)\n",
            "Requirement already satisfied: cffi>=1.12 in /usr/local/lib/python3.8/dist-packages (from cryptography>=3.3.2->yfinance) (1.15.1)\n",
            "Requirement already satisfied: webencodings in /usr/local/lib/python3.8/dist-packages (from html5lib>=1.1->yfinance) (0.5.1)\n",
            "Requirement already satisfied: six>=1.9 in /usr/local/lib/python3.8/dist-packages (from html5lib>=1.1->yfinance) (1.15.0)\n",
            "Requirement already satisfied: python-dateutil>=2.7.3 in /usr/local/lib/python3.8/dist-packages (from pandas>=1.3.0->yfinance) (2.8.2)\n",
            "Requirement already satisfied: urllib3<1.27,>=1.21.1 in /usr/local/lib/python3.8/dist-packages (from requests>=2.26->yfinance) (1.24.3)\n",
            "Requirement already satisfied: idna<4,>=2.5 in /usr/local/lib/python3.8/dist-packages (from requests>=2.26->yfinance) (2.10)\n",
            "Requirement already satisfied: certifi>=2017.4.17 in /usr/local/lib/python3.8/dist-packages (from requests>=2.26->yfinance) (2022.12.7)\n",
            "Requirement already satisfied: charset-normalizer<3,>=2 in /usr/local/lib/python3.8/dist-packages (from requests>=2.26->yfinance) (2.1.1)\n",
            "Requirement already satisfied: pycparser in /usr/local/lib/python3.8/dist-packages (from cffi>=1.12->cryptography>=3.3.2->yfinance) (2.21)\n"
          ]
        }
      ]
    },
    {
      "cell_type": "code",
      "source": [
        " #get the stock\n",
        "import yfinance as yf\n",
        "df = yf.download('AAPL', start = '2012-01-01', end='2019-12-17')"
      ],
      "metadata": {
        "colab": {
          "base_uri": "https://localhost:8080/"
        },
        "id": "BXY0sHdugem4",
        "outputId": "6649d7ae-e885-4025-8c77-16994b8c87cf"
      },
      "execution_count": 90,
      "outputs": [
        {
          "output_type": "stream",
          "name": "stdout",
          "text": [
            "\r[*********************100%***********************]  1 of 1 completed\n"
          ]
        }
      ]
    },
    {
      "cell_type": "code",
      "source": [
        "df"
      ],
      "metadata": {
        "colab": {
          "base_uri": "https://localhost:8080/",
          "height": 455
        },
        "id": "MOk8ealShD31",
        "outputId": "e59ca0c7-636c-4c27-8a51-0da58e5e63ef"
      },
      "execution_count": 91,
      "outputs": [
        {
          "output_type": "execute_result",
          "data": {
            "text/plain": [
              "                 Open       High        Low      Close  Adj Close     Volume\n",
              "Date                                                                        \n",
              "2012-01-03  14.621429  14.732143  14.607143  14.686786  12.519276  302220800\n",
              "2012-01-04  14.642857  14.810000  14.617143  14.765714  12.586559  260022000\n",
              "2012-01-05  14.819643  14.948214  14.738214  14.929643  12.726295  271269600\n",
              "2012-01-06  14.991786  15.098214  14.972143  15.085714  12.859332  318292800\n",
              "2012-01-09  15.196429  15.276786  15.048214  15.061786  12.838933  394024400\n",
              "...               ...        ...        ...        ...        ...        ...\n",
              "2019-12-10  67.150002  67.517502  66.464996  67.120003  65.755959   90420400\n",
              "2019-12-11  67.202499  67.775002  67.125000  67.692497  66.316826   78756800\n",
              "2019-12-12  66.945000  68.139999  66.830002  67.864998  66.485817  137310400\n",
              "2019-12-13  67.864998  68.824997  67.732498  68.787498  67.389572  133587600\n",
              "2019-12-16  69.250000  70.197502  69.245003  69.964996  68.543144  128186000\n",
              "\n",
              "[2002 rows x 6 columns]"
            ],
            "text/html": [
              "\n",
              "  <div id=\"df-0fddfa1b-e90b-4587-95e9-fce05335b971\">\n",
              "    <div class=\"colab-df-container\">\n",
              "      <div>\n",
              "<style scoped>\n",
              "    .dataframe tbody tr th:only-of-type {\n",
              "        vertical-align: middle;\n",
              "    }\n",
              "\n",
              "    .dataframe tbody tr th {\n",
              "        vertical-align: top;\n",
              "    }\n",
              "\n",
              "    .dataframe thead th {\n",
              "        text-align: right;\n",
              "    }\n",
              "</style>\n",
              "<table border=\"1\" class=\"dataframe\">\n",
              "  <thead>\n",
              "    <tr style=\"text-align: right;\">\n",
              "      <th></th>\n",
              "      <th>Open</th>\n",
              "      <th>High</th>\n",
              "      <th>Low</th>\n",
              "      <th>Close</th>\n",
              "      <th>Adj Close</th>\n",
              "      <th>Volume</th>\n",
              "    </tr>\n",
              "    <tr>\n",
              "      <th>Date</th>\n",
              "      <th></th>\n",
              "      <th></th>\n",
              "      <th></th>\n",
              "      <th></th>\n",
              "      <th></th>\n",
              "      <th></th>\n",
              "    </tr>\n",
              "  </thead>\n",
              "  <tbody>\n",
              "    <tr>\n",
              "      <th>2012-01-03</th>\n",
              "      <td>14.621429</td>\n",
              "      <td>14.732143</td>\n",
              "      <td>14.607143</td>\n",
              "      <td>14.686786</td>\n",
              "      <td>12.519276</td>\n",
              "      <td>302220800</td>\n",
              "    </tr>\n",
              "    <tr>\n",
              "      <th>2012-01-04</th>\n",
              "      <td>14.642857</td>\n",
              "      <td>14.810000</td>\n",
              "      <td>14.617143</td>\n",
              "      <td>14.765714</td>\n",
              "      <td>12.586559</td>\n",
              "      <td>260022000</td>\n",
              "    </tr>\n",
              "    <tr>\n",
              "      <th>2012-01-05</th>\n",
              "      <td>14.819643</td>\n",
              "      <td>14.948214</td>\n",
              "      <td>14.738214</td>\n",
              "      <td>14.929643</td>\n",
              "      <td>12.726295</td>\n",
              "      <td>271269600</td>\n",
              "    </tr>\n",
              "    <tr>\n",
              "      <th>2012-01-06</th>\n",
              "      <td>14.991786</td>\n",
              "      <td>15.098214</td>\n",
              "      <td>14.972143</td>\n",
              "      <td>15.085714</td>\n",
              "      <td>12.859332</td>\n",
              "      <td>318292800</td>\n",
              "    </tr>\n",
              "    <tr>\n",
              "      <th>2012-01-09</th>\n",
              "      <td>15.196429</td>\n",
              "      <td>15.276786</td>\n",
              "      <td>15.048214</td>\n",
              "      <td>15.061786</td>\n",
              "      <td>12.838933</td>\n",
              "      <td>394024400</td>\n",
              "    </tr>\n",
              "    <tr>\n",
              "      <th>...</th>\n",
              "      <td>...</td>\n",
              "      <td>...</td>\n",
              "      <td>...</td>\n",
              "      <td>...</td>\n",
              "      <td>...</td>\n",
              "      <td>...</td>\n",
              "    </tr>\n",
              "    <tr>\n",
              "      <th>2019-12-10</th>\n",
              "      <td>67.150002</td>\n",
              "      <td>67.517502</td>\n",
              "      <td>66.464996</td>\n",
              "      <td>67.120003</td>\n",
              "      <td>65.755959</td>\n",
              "      <td>90420400</td>\n",
              "    </tr>\n",
              "    <tr>\n",
              "      <th>2019-12-11</th>\n",
              "      <td>67.202499</td>\n",
              "      <td>67.775002</td>\n",
              "      <td>67.125000</td>\n",
              "      <td>67.692497</td>\n",
              "      <td>66.316826</td>\n",
              "      <td>78756800</td>\n",
              "    </tr>\n",
              "    <tr>\n",
              "      <th>2019-12-12</th>\n",
              "      <td>66.945000</td>\n",
              "      <td>68.139999</td>\n",
              "      <td>66.830002</td>\n",
              "      <td>67.864998</td>\n",
              "      <td>66.485817</td>\n",
              "      <td>137310400</td>\n",
              "    </tr>\n",
              "    <tr>\n",
              "      <th>2019-12-13</th>\n",
              "      <td>67.864998</td>\n",
              "      <td>68.824997</td>\n",
              "      <td>67.732498</td>\n",
              "      <td>68.787498</td>\n",
              "      <td>67.389572</td>\n",
              "      <td>133587600</td>\n",
              "    </tr>\n",
              "    <tr>\n",
              "      <th>2019-12-16</th>\n",
              "      <td>69.250000</td>\n",
              "      <td>70.197502</td>\n",
              "      <td>69.245003</td>\n",
              "      <td>69.964996</td>\n",
              "      <td>68.543144</td>\n",
              "      <td>128186000</td>\n",
              "    </tr>\n",
              "  </tbody>\n",
              "</table>\n",
              "<p>2002 rows × 6 columns</p>\n",
              "</div>\n",
              "      <button class=\"colab-df-convert\" onclick=\"convertToInteractive('df-0fddfa1b-e90b-4587-95e9-fce05335b971')\"\n",
              "              title=\"Convert this dataframe to an interactive table.\"\n",
              "              style=\"display:none;\">\n",
              "        \n",
              "  <svg xmlns=\"http://www.w3.org/2000/svg\" height=\"24px\"viewBox=\"0 0 24 24\"\n",
              "       width=\"24px\">\n",
              "    <path d=\"M0 0h24v24H0V0z\" fill=\"none\"/>\n",
              "    <path d=\"M18.56 5.44l.94 2.06.94-2.06 2.06-.94-2.06-.94-.94-2.06-.94 2.06-2.06.94zm-11 1L8.5 8.5l.94-2.06 2.06-.94-2.06-.94L8.5 2.5l-.94 2.06-2.06.94zm10 10l.94 2.06.94-2.06 2.06-.94-2.06-.94-.94-2.06-.94 2.06-2.06.94z\"/><path d=\"M17.41 7.96l-1.37-1.37c-.4-.4-.92-.59-1.43-.59-.52 0-1.04.2-1.43.59L10.3 9.45l-7.72 7.72c-.78.78-.78 2.05 0 2.83L4 21.41c.39.39.9.59 1.41.59.51 0 1.02-.2 1.41-.59l7.78-7.78 2.81-2.81c.8-.78.8-2.07 0-2.86zM5.41 20L4 18.59l7.72-7.72 1.47 1.35L5.41 20z\"/>\n",
              "  </svg>\n",
              "      </button>\n",
              "      \n",
              "  <style>\n",
              "    .colab-df-container {\n",
              "      display:flex;\n",
              "      flex-wrap:wrap;\n",
              "      gap: 12px;\n",
              "    }\n",
              "\n",
              "    .colab-df-convert {\n",
              "      background-color: #E8F0FE;\n",
              "      border: none;\n",
              "      border-radius: 50%;\n",
              "      cursor: pointer;\n",
              "      display: none;\n",
              "      fill: #1967D2;\n",
              "      height: 32px;\n",
              "      padding: 0 0 0 0;\n",
              "      width: 32px;\n",
              "    }\n",
              "\n",
              "    .colab-df-convert:hover {\n",
              "      background-color: #E2EBFA;\n",
              "      box-shadow: 0px 1px 2px rgba(60, 64, 67, 0.3), 0px 1px 3px 1px rgba(60, 64, 67, 0.15);\n",
              "      fill: #174EA6;\n",
              "    }\n",
              "\n",
              "    [theme=dark] .colab-df-convert {\n",
              "      background-color: #3B4455;\n",
              "      fill: #D2E3FC;\n",
              "    }\n",
              "\n",
              "    [theme=dark] .colab-df-convert:hover {\n",
              "      background-color: #434B5C;\n",
              "      box-shadow: 0px 1px 3px 1px rgba(0, 0, 0, 0.15);\n",
              "      filter: drop-shadow(0px 1px 2px rgba(0, 0, 0, 0.3));\n",
              "      fill: #FFFFFF;\n",
              "    }\n",
              "  </style>\n",
              "\n",
              "      <script>\n",
              "        const buttonEl =\n",
              "          document.querySelector('#df-0fddfa1b-e90b-4587-95e9-fce05335b971 button.colab-df-convert');\n",
              "        buttonEl.style.display =\n",
              "          google.colab.kernel.accessAllowed ? 'block' : 'none';\n",
              "\n",
              "        async function convertToInteractive(key) {\n",
              "          const element = document.querySelector('#df-0fddfa1b-e90b-4587-95e9-fce05335b971');\n",
              "          const dataTable =\n",
              "            await google.colab.kernel.invokeFunction('convertToInteractive',\n",
              "                                                     [key], {});\n",
              "          if (!dataTable) return;\n",
              "\n",
              "          const docLinkHtml = 'Like what you see? Visit the ' +\n",
              "            '<a target=\"_blank\" href=https://colab.research.google.com/notebooks/data_table.ipynb>data table notebook</a>'\n",
              "            + ' to learn more about interactive tables.';\n",
              "          element.innerHTML = '';\n",
              "          dataTable['output_type'] = 'display_data';\n",
              "          await google.colab.output.renderOutput(dataTable, element);\n",
              "          const docLink = document.createElement('div');\n",
              "          docLink.innerHTML = docLinkHtml;\n",
              "          element.appendChild(docLink);\n",
              "        }\n",
              "      </script>\n",
              "    </div>\n",
              "  </div>\n",
              "  "
            ]
          },
          "metadata": {},
          "execution_count": 91
        }
      ]
    },
    {
      "cell_type": "code",
      "source": [
        "df.shape"
      ],
      "metadata": {
        "colab": {
          "base_uri": "https://localhost:8080/"
        },
        "id": "4br90CDPhn2A",
        "outputId": "434400b9-9170-4a2d-c768-964a34a49519"
      },
      "execution_count": 92,
      "outputs": [
        {
          "output_type": "execute_result",
          "data": {
            "text/plain": [
              "(2002, 6)"
            ]
          },
          "metadata": {},
          "execution_count": 92
        }
      ]
    },
    {
      "cell_type": "code",
      "source": [
        "#visualize the closing price\n",
        "import seaborn as sns\n",
        "plt.figure(figsize=(16,8))\n",
        "plt.title('Closing price history')\n",
        "plt.plot(df['Close'])\n",
        "plt.xlabel('Date',color='red')\n",
        "plt.ylabel('Price in USD($)',color='green')\n",
        "plt.show()"
      ],
      "metadata": {
        "colab": {
          "base_uri": "https://localhost:8080/",
          "height": 558
        },
        "id": "upybI_OZnOYx",
        "outputId": "19f7a6bc-4b3c-4364-9fcc-a139c7331317"
      },
      "execution_count": 93,
      "outputs": [
        {
          "output_type": "display_data",
          "data": {
            "text/plain": [
              "<Figure size 1152x576 with 1 Axes>"
            ],
            "image/png": "[encoded data removed]"
          },
          "metadata": {}
        }
      ]
    },
    {
      "cell_type": "code",
      "source": [
        "sns.lineplot(x='Date',y='Close',data=df)"
      ],
      "metadata": {
        "colab": {
          "base_uri": "https://localhost:8080/",
          "height": 322
        },
        "id": "0FuCW5Nsnh9m",
        "outputId": "9f208174-d9cf-489b-e497-f89450b38260"
      },
      "execution_count": 94,
      "outputs": [
        {
          "output_type": "execute_result",
          "data": {
            "text/plain": [
              "<matplotlib.axes._subplots.AxesSubplot at 0x7fc411a88ee0>"
            ]
          },
          "metadata": {},
          "execution_count": 94
        },
        {
          "output_type": "display_data",
          "data": {
            "text/plain": [
              "<Figure size 432x288 with 1 Axes>"
            ],
            "image/png": "[encoded data removed]"
          },
          "metadata": {}
        }
      ]
    },
    {
      "cell_type": "code",
      "source": [
        "sns.barplot(x='Open',y='Close',data=df)"
      ],
      "metadata": {
        "colab": {
          "base_uri": "https://localhost:8080/",
          "height": 322
        },
        "id": "2ja7ji3jpUB6",
        "outputId": "9b8fedb0-a8b3-468b-895b-4d67d21ed4af"
      },
      "execution_count": 95,
      "outputs": [
        {
          "output_type": "execute_result",
          "data": {
            "text/plain": [
              "<matplotlib.axes._subplots.AxesSubplot at 0x7fc4114f2160>"
            ]
          },
          "metadata": {},
          "execution_count": 95
        },
        {
          "output_type": "display_data",
          "data": {
            "text/plain": [
              "<Figure size 432x288 with 1 Axes>"
            ],
            "image/png": "[encoded data removed]"
          },
          "metadata": {}
        }
      ]
    },
    {
      "cell_type": "code",
      "source": [
        "#creating a new dataframe using close columns \n",
        "data=df.filter(['Close'])\n",
        "#converting data into numpy arrays\n",
        "datasets=data.values\n",
        "datasets"
      ],
      "metadata": {
        "colab": {
          "base_uri": "https://localhost:8080/"
        },
        "id": "yuI3xNHVrB9T",
        "outputId": "129c0ce0-39b6-4c19-c8b3-5d26e152f8b4"
      },
      "execution_count": 96,
      "outputs": [
        {
          "output_type": "execute_result",
          "data": {
            "text/plain": [
              "array([[14.6867857 ],\n",
              "       [14.76571369],\n",
              "       [14.92964268],\n",
              "       ...,\n",
              "       [67.86499786],\n",
              "       [68.78749847],\n",
              "       [69.96499634]])"
            ]
          },
          "metadata": {},
          "execution_count": 96
        }
      ]
    },
    {
      "cell_type": "code",
      "source": [
        "training_data_len=math.ceil(len(datasets) *0.8)\n",
        "training_data_len"
      ],
      "metadata": {
        "colab": {
          "base_uri": "https://localhost:8080/"
        },
        "id": "djjaf0oVrsDM",
        "outputId": "4717b82b-e16f-4874-9869-8ec2f125b352"
      },
      "execution_count": 97,
      "outputs": [
        {
          "output_type": "execute_result",
          "data": {
            "text/plain": [
              "1602"
            ]
          },
          "metadata": {},
          "execution_count": 97
        }
      ]
    },
    {
      "cell_type": "code",
      "source": [
        "#scale the data"
      ],
      "metadata": {
        "id": "aUU-xOiirtMz"
      },
      "execution_count": 98,
      "outputs": []
    },
    {
      "cell_type": "code",
      "source": [
        "scalar=MinMaxScaler(feature_range=(0,1))\n",
        "scaled_data=scalar.fit_transform(datasets)\n",
        "\n",
        "scaled_data"
      ],
      "metadata": {
        "colab": {
          "base_uri": "https://localhost:8080/"
        },
        "id": "kKQXvBetsvIq",
        "outputId": "d6a3b49f-182a-43a7-9bdd-2c03c1cfa31b"
      },
      "execution_count": 99,
      "outputs": [
        {
          "output_type": "execute_result",
          "data": {
            "text/plain": [
              "array([[0.0131974 ],\n",
              "       [0.01460639],\n",
              "       [0.01753278],\n",
              "       ...,\n",
              "       [0.96251174],\n",
              "       [0.97897982],\n",
              "       [1.        ]])"
            ]
          },
          "metadata": {},
          "execution_count": 99
        }
      ]
    },
    {
      "cell_type": "code",
      "source": [
        "#creating training datasets\n",
        "#creating the scaled training data\n",
        "train_data=scaled_data[0:training_data_len,:]\n",
        "#split the data into x_train & y_train\n",
        "\n",
        "x_train=[]\n",
        "y_train=[]\n",
        "for i in range(60,len(train_data)):\n",
        "  x_train.append(train_data[i-60:i,0])\n",
        "  y_train.append(train_data[i,0])\n",
        "  if i <=60:\n",
        "    print(x_train)\n"
      ],
      "metadata": {
        "colab": {
          "base_uri": "https://localhost:8080/"
        },
        "id": "OYh8lnpWtR14",
        "outputId": "336d7668-ab63-42b4-aacd-d66d9f0c1eea"
      },
      "execution_count": 100,
      "outputs": [
        {
          "output_type": "stream",
          "name": "stdout",
          "text": [
            "[array([0.0131974 , 0.01460639, 0.01753278, 0.0203189 , 0.01989174,\n",
            "       0.02085445, 0.02041453, 0.01967497, 0.01866762, 0.02178528,\n",
            "       0.02459691, 0.02372983, 0.01898002, 0.02351306, 0.01905016,\n",
            "       0.03578601, 0.03449178, 0.0361813 , 0.03983449, 0.0420468 ,\n",
            "       0.04186191, 0.04117973, 0.04408699, 0.04682209, 0.04992063,\n",
            "       0.05492545, 0.06543874, 0.06559812, 0.0714509 , 0.07582451,\n",
            "       0.06830775, 0.07120224, 0.07114487, 0.07926096, 0.07810697,\n",
            "       0.08024277, 0.08408086, 0.08621669, 0.0923691 , 0.0968511 ,\n",
            "       0.09814534, 0.09859802, 0.09093461, 0.08908567, 0.08935984,\n",
            "       0.09656423, 0.09859166, 0.10294617, 0.1132108 , 0.12690551,\n",
            "       0.12434252, 0.12434889, 0.13425015, 0.13734869, 0.13514271,\n",
            "       0.13312806, 0.13103049, 0.13799896, 0.14278065, 0.14478257])]\n"
          ]
        }
      ]
    },
    {
      "cell_type": "code",
      "source": [
        "    print(y_train)"
      ],
      "metadata": {
        "colab": {
          "base_uri": "https://localhost:8080/"
        },
        "id": "_XlPIj89tbHq",
        "outputId": "59016c02-1fcb-47d1-ff33-c276bd9ae810"
      },
      "execution_count": 101,
      "outputs": [
        {
          "output_type": "stream",
          "name": "stdout",
          "text": [
            "[0.139835129205152, 0.13326193905670414, 0.1454265118533124, 0.15224196176817417, 0.14904781016068447, 0.1550217351104134, 0.15664748030605152, 0.1516809337750326, 0.15025280989833567, 0.14806596861123794, 0.1368832373640762, 0.12088060931378652, 0.1397331179247337, 0.1388660560903373, 0.12554112200355055, 0.11632207385528176, 0.11550598361193548, 0.10822511574245502, 0.1399243720509385, 0.13845801096866417, 0.1354614806801156, 0.12333517913824371, 0.12215571626985605, 0.12461028609431324, 0.12195806090175587, 0.11139376452984018, 0.11409062816987031, 0.11326180354105125, 0.11389933999450652, 0.11475366744343013, 0.1123246004390775, 0.10691173753164912, 0.10369208310405481, 0.09917181890028637, 0.08899643202267565, 0.08916218332877585, 0.10886265219591029, 0.10611481696483005, 0.11477920431269373, 0.11143840297731294, 0.10950658989126094, 0.11586939028613585, 0.12026854163127682, 0.11935047415667127, 0.10867776526244188, 0.11078169684733047, 0.10985086093809315, 0.11535300074046706, 0.11551875204656725, 0.12100172217241395, 0.11516811380699865, 0.11834949697985664, 0.11579928306771753, 0.11539760513878078, 0.1170552543964189, 0.12448277199379038, 0.12552202042534139, 0.12445730322284482, 0.1193122029019349, 0.12213658064248789, 0.11491308560595298, 0.11571640741466743, 0.1172911469700964, 0.11381646434145642, 0.12334794757287548, 0.12877991205851308, 0.1331726621617586, 0.13988613484536117, 0.13729764967848568, 0.14240447874465928, 0.1387831804372872, 0.1363732150111438, 0.1328475267422946, 0.13671748605797596, 0.13795435580846815, 0.13797349143583637, 0.13753994349405863, 0.14267864257307317, 0.13629033935809365, 0.1359906727095752, 0.13413540213299596, 0.1175908136186149, 0.11753344078566935, 0.12408749530674906, 0.13038018848320565, 0.14040892563292534, 0.13789058173362723, 0.13851538380160971, 0.14355847284210133, 0.14792572012524235, 0.14688013855011395, 0.1462106980346587, 0.14676535883506386, 0.14738379371030996, 0.15267550970995192, 0.15375296129792126, 0.15320466769025248, 0.15671762157362884, 0.16422164763131408, 0.1750856106517482, 0.16929020544275125, 0.1774573048231553, 0.17347896703431925, 0.1738551080939924, 0.18179908333535072, 0.18123802129305017, 0.18039006103686295, 0.17426952040840193, 0.17514298348469376, 0.18134639976620487, 0.17832440070671074, 0.18217522439502387, 0.18483385082947668, 0.17354910830189657, 0.17217835725814518, 0.17804383563640142, 0.18645322883237841, 0.19174494483202031, 0.19716417493218513, 0.19852215754130476, 0.19864330444909123, 0.19647559878936172, 0.19736179625112632, 0.1914325097488701, 0.18043469948433571, 0.17510474627911643, 0.18539487882261818, 0.1763288475949768, 0.171413272655008, 0.17263737397086842, 0.1791021856461616, 0.176137559419613, 0.16707789538470796, 0.15788435005654372, 0.15640522053963762, 0.15963124215996832, 0.15146414277956427, 0.1524906227764835, 0.15571027720407782, 0.16529273202654704, 0.16199020194590263, 0.15435866178769458, 0.13982239481967923, 0.15524485924945913, 0.14206657489056346, 0.1442788849486067, 0.13963110664431544, 0.13609905118272986, 0.130565075416674, 0.13134289440528396, 0.11875754210152978, 0.12374322425991685, 0.1226147329825793, 0.10677148904565348, 0.09386096727327625, 0.09979662096826886, 0.09709975732823878, 0.09714439577571149, 0.09330630647287108, 0.08612741583464995, 0.08744079404545585, 0.11169979837109506, 0.10862675962223273, 0.10913044883158779, 0.11537846951141262, 0.12687363584172467, 0.12384523554033511, 0.1226721398646839, 0.12676522331941098, 0.12416400376706277, 0.12474416738757249, 0.11815184161175646, 0.09452404059599512, 0.09991140068331894, 0.09099198513440954, 0.08880517789647085, 0.09618168985363323, 0.09465792188925437, 0.08872226819426177, 0.07603490461008927, 0.0817984057570863, 0.09140639744881907, 0.08656733096916402, 0.08364734319008815, 0.08211720803297295, 0.08265273320600991, 0.07808146336203237, 0.07939484157283827, 0.07590739050956641, 0.09030340899158612, 0.10105259229697022, 0.09663433937362009, 0.0870072461036781, 0.08503082861931238, 0.08592976046654976, 0.08069545134901235, 0.0847822016601621, 0.082735642908219, 0.07090897396570656, 0.06081646274114594, 0.07367594482415502, 0.07150187197168906, 0.06979325112300083, 0.07283438580986318, 0.07872540105738302, 0.038234243300513004, 0.03146338075938543, 0.037807062551471704, 0.04318802139690009, 0.0422699539222946, 0.04141562647337094, 0.040223395170351506, 0.03301901873660529, 0.04291389161764525, 0.04260149058365398, 0.04953172021356583, 0.053841594663761316, 0.0569974750165147, 0.04932769765272926, 0.04876026841769232, 0.04849250583117387, 0.04439302113455135, 0.04428460861223765, 0.037182260483489216, 0.035403464318064626, 0.03843186461945419, 0.033325052577860115, 0.03725876894380292, 0.03445350980603862, 0.03243247089877965, 0.025463987038710945, 0.018820655622685756, 0.025891133738593253, 0.022397332507164525, 0.025534111281708738, 0.02626092463010954, 0.030181889586000044, 0.024163360237957288, 0.024112354597748187, 0.026758229622148633, 0.033873346185528896, 0.041562276201262016, 0.04077809001991567, 0.039241553620905034, 0.03965596593531456, 0.04550874397725707, 0.04657346117975364, 0.045017823202533835, 0.039241553620905034, 0.033235792707494105, 0.02446939407921217, 0.0250304390969332, 0.02643306015352559, 0.023710693693390905, 0.020828960144471942, 0.02274798777131265, 0.023238908546035886, 0.0287920199394599, 0.027924958105063513, 0.025036823314249113, 0.018693141522162893, 0.02276712339868081, 0.007822794284412848, 0.0009690901393941964, 0.0, 0.005189687694644174, 0.009945878521249119, 0.009518697772207763, 0.011380369590682449, 0.017003605227104313, 0.025240845875085682, 0.03331228414322834, 0.03108722267513281, 0.03505921029581194, 0.03790270663915357, 0.04474369342327894, 0.043436682405209426, 0.04673921248585383, 0.042231682667558224, 0.03980898285594198, 0.04093744008412048, 0.03400086028605176, 0.024431122824475793, 0.028084325193847848, 0.027242749154976487, 0.03340792823091021, 0.03132311524881032, 0.03240058386135919, 0.03290425604613473, 0.034823300697554904, 0.032457956694304735, 0.03469578659703204, 0.03892278539417743, 0.03774332252578977, 0.03837449178650865, 0.03747552589011227, 0.034797797877450354, 0.030558047670252664, 0.03269386629256177, 0.030832194474087082, 0.030009737038004414, 0.026560574254048452, 0.028964155462876007, 0.025196207427612916, 0.02643942734626198, 0.02629279464295048, 0.02070144604394908, 0.01677409687074266, 0.014644645441170001, 0.0076570429783126, 0.00771443283583767, 0.004807179442234577, 0.0020720445474681215, 0.0038253378927881054, 0.011915911788298927, 0.017826045638607457, 0.019298807962777165, 0.01714387073767948, 0.015632854183352862, 0.02028703372953955, 0.019254169515304453, 0.023436546889556542, 0.022939258922096917, 0.02353217395265894, 0.02529185151529484, 0.025361958733713164, 0.02628642745021409, 0.021944682987177666, 0.022811744821574054, 0.01814484791449411, 0.03186504166374271, 0.03058355049035727, 0.03217107550499754, 0.03650645277529757, 0.04003214104414676, 0.0395284518347917, 0.04217430983461268, 0.04591038785703477, 0.05031590639491218, 0.04763817838225021, 0.04746602583425463, 0.04493494754948374, 0.04075255315065213, 0.04898342660589711, 0.06314355251423925, 0.06883691239365897, 0.06846073728482677, 0.07127874783264332, 0.0747279276411788, 0.07047542602392887, 0.07129788346001154, 0.07168039171242108, 0.07044355601108793, 0.07168679295431646, 0.06251871639709777, 0.06399147872126748, 0.06450153512335893, 0.061645287369964996, 0.06251234920436138, 0.06895802525228639, 0.0667775852070841, 0.06865839265292695, 0.07372695046436412, 0.06637594132730634, 0.04920658479410184, 0.05238160077422338, 0.047415020194045476, 0.03799194948494006, 0.04130724800021629, 0.047274771708049834, 0.0521329397659141, 0.04901529661873805, 0.06382572741516729, 0.06284388586572082, 0.05801758782069755, 0.06100771686735068, 0.05879540680930745, 0.05497008594109881, 0.062117072517320016, 0.06313715127234387, 0.05921618631645337, 0.05897392655003947, 0.06198319122406082, 0.057641446761024395, 0.061243609441028246, 0.06318815691255303, 0.06520921284439152, 0.06726850598180734, 0.06895165805955, 0.07050092884403342, 0.07266223326186755, 0.07546110818231594, 0.08341145061641064, 0.08246147907980511, 0.08570663632750403, 0.09013765768548593, 0.08634420683011829, 0.08884341510204824, 0.08042765471333485, 0.08566839912192664, 0.08426574401617526, 0.08256349036022342, 0.0868478619903143, 0.08601903736149524, 0.08313091959526037, 0.07775629389340932, 0.08290139421431925, 0.08193868829224094, 0.08255075597475064, 0.08294603266179196, 0.08774682788671068, 0.08572577195487219, 0.08167089165656344, 0.08225745651896854, 0.0793565703181019, 0.08327116808125601, 0.0824168406323324, 0.08492881733889412, 0.09108759517293247, 0.09909531043997266, 0.10554102053705672, 0.10245524740272166, 0.11207593943076821, 0.11123438041647637, 0.11308328380031923, 0.10805933038719578, 0.11214608069834553, 0.11158501865604498, 0.10891365783611939, 0.10839086704855522, 0.10449540491276926, 0.10645268676976682, 0.1048524443942333, 0.10216194794693956, 0.09813897171063074, 0.10104622510423383, 0.11447953766417523, 0.1129366681215872, 0.11053306988818018, 0.10810396883466855, 0.10455277774571481, 0.1086969008898101, 0.10366658028395026, 0.09592029445985112, 0.09780106785653497, 0.09532099521197318, 0.09750143525717553, 0.09307678109192996, 0.09079432976630936, 0.09257312593173395, 0.09936947426838655, 0.10636344392398034, 0.10438065924687823, 0.09572263909175094, 0.10107812916623382, 0.10263376714345362, 0.10561112775547499, 0.09916545170754998, 0.10198979539894393, 0.07393737426709612, 0.0702714034630923, 0.0696529685878462, 0.07017575937541037, 0.07076869143055192, 0.07539733410747501, 0.07782006796825025, 0.0777690623280411, 0.08234033217201864, 0.08827598586701124, 0.09271977565962497, 0.09269423879036143, 0.09811987013242163, 0.0978393050621123, 0.09911444606734088, 0.09361870750686235, 0.08965310410349908, 0.08589152326097238, 0.0873578843432467, 0.08385773294366111, 0.08085483546237615, 0.08743442685271946, 0.0865227265708503, 0.08749179968566495, 0.08971047693644463, 0.0904245558993726, 0.08939807590245336, 0.08920045458351222, 0.08950648842476705, 0.09280261726351607, 0.0931341539248755, 0.08933433587677148, 0.08553451782866744, 0.08684149479757791, 0.08981248821686288, 0.0897232453710764, 0.08809109893354289, 0.09074969131883664, 0.09477906879704084, 0.09847687556472656, 0.095155209856714, 0.0936760803398079, 0.09329353803823931, 0.0932170636270846, 0.09634744115973343, 0.09692123758750676, 0.09452404059599512, 0.09008025080338139, 0.0847566647908985, 0.08473756321268933, 0.08912394612319852, 0.08476306603279388, 0.08229572777370492, 0.08361547317724721, 0.08124374495668113, 0.08191318547213639, 0.0856938678928722, 0.08966587253813091, 0.09000377639222668, 0.08557275503424477, 0.11300040814726914, 0.11565903458172189, 0.1297808892353277, 0.1286587651507266, 0.1272306412740296, 0.12811687278495326, 0.1288181492640904, 0.13416087090394152, 0.12998491179616428, 0.1286587651507266, 0.1258917942922782, 0.12432978912232195, 0.12897756742661326, 0.12957046543259576, 0.12964060670017308, 0.12642095227257877, 0.13196132928053, 0.13647522629156206, 0.13655173475187576, 0.13757181350689962, 0.13818384714025028, 0.1425574956652867, 0.1498894032241353, 0.14885655603447967, 0.15610555389111913, 0.1545881871686357, 0.15181481506829186, 0.15748267212760697, 0.1621240832391619, 0.16373709404932724, 0.1626022355792533, 0.169188194162333, 0.17164279803594917, 0.16990227312526096, 0.1628955350350354, 0.15838800521673974, 0.16249385710609865, 0.16195833193306164, 0.16240461426031216, 0.16097649038361517, 0.15673675720099706, 0.15637971771953307, 0.15392511384591684, 0.15428215332738088, 0.1566921187535243, 0.16151204960581117, 0.16575178278842934, 0.1683848723536185, 0.16820638666204552, 0.1706609564865027, 0.17931897664163, 0.17655197173402254, 0.17673049147475456, 0.1751684863047983, 0.17597180811351282, 0.1814611454320959, 0.1764180904407633, 0.17400812501461987, 0.1664658277021983, 0.17244611984466363, 0.17025931260672494, 0.17374036242810137, 0.18476370956189936, 0.18404963059897134, 0.18690587835236527, 0.19293077489314436, 0.19007452713975043, 0.18904808119199024, 0.17766769457672826, 0.18003302155539896, 0.1776230561292555, 0.1755255257862623, 0.17481144682333433, 0.1726692780328684, 0.17382960527388785, 0.17940821948741648, 0.17931897664163, 0.1849868337009451, 0.18614719499112353, 0.1882893978307485, 0.19355561101028584, 0.19966975039685148, 0.19984827013758344, 0.1998929085850562, 0.2031954386657006, 0.20417728021514708, 0.20127639401428044, 0.2068103697803363, 0.20734592900253224, 0.20846165184523796, 0.21203197856155992, 0.19257376946083937, 0.18891419989873098, 0.19270765075409862, 0.18998528429396394, 0.18833400222906221, 0.20176731478900367, 0.20368635944042385, 0.20471283943734309, 0.20457892409492484, 0.20114251272102118, 0.2043557999558791, 0.2052930030578528, 0.20158879504827165, 0.20203507737552212, 0.20908645391322045, 0.20511448331712084, 0.18779847705602526, 0.20065159194629795, 0.197795344192904, 0.20065159194629795, 0.19364485385607233, 0.1968581410909303, 0.19560853695496533, 0.19560853695496533, 0.19172580920465215, 0.20087475013450268, 0.20185655763479016, 0.20056234910051146, 0.19645646316199356, 0.19172580920465215, 0.18632571473185555, 0.18061321922506768, 0.18690587835236527, 0.19623333902294782, 0.20832777055197876, 0.2106484590831767, 0.21886019691105346, 0.22060072182174167, 0.22010980104701844, 0.2273843017237625, 0.23006202973642442, 0.2284554201681545, 0.23300755438476384, 0.2392556091137477, 0.2356852823974258, 0.23684564368760425, 0.23613156472467628, 0.2375150842030595, 0.23671176239434505, 0.24059445609549918, 0.24751195133993825, 0.2545186894301638, 0.2605882244184156, 0.25974026416222845, 0.2663453583726763, 0.26277503165635435, 0.27009417078057113, 0.2708082497434992, 0.2804480773989139, 0.2758513047348318, 0.28209935946381565, 0.28178695842982443, 0.2645601950145153, 0.26259651191562233, 0.26839828431735574, 0.2664346012184628, 0.26424779398052406, 0.2526442832262164, 0.2603204618318972, 0.25063596167985064, 0.24916323340483998, 0.24072837143791742, 0.23403403438168308, 0.22742894017123527, 0.23930024756122048, 0.2537600060689221, 0.24987727831860895, 0.25505424865235976, 0.25326908529419884, 0.2509037583155282, 0.25974026416222845, 0.25938325872992346, 0.2531798083992533, 0.24362922358962508, 0.23894320807975644, 0.22519749448582382, 0.2252421329332966, 0.2318918315420581, 0.2503681990933322, 0.2509037583155282, 0.23858616859829246, 0.2429151786758561, 0.2410407724719087, 0.2277413412052265, 0.22403713319564533, 0.23622084161962176, 0.23992504962920297, 0.2526442832262164, 0.2552327683930918, 0.2557682935661288, 0.23809524782356922, 0.26563127940974823, 0.2816530771365651, 0.2738876556850978, 0.2804480773989139, 0.28053735429385945, 0.2845985677357456, 0.28629448824812004, 0.28178695842982443, 0.28531264669867357, 0.2955772764220708, 0.30834114846655697, 0.31539252500425524, 0.31815952991186275, 0.32150669843997987, 0.3254786690360795, 0.3242736692984283, 0.32895971885745595, 0.3445798386553361, 0.34087563064575493, 0.3257910360209118, 0.3330655707468148, 0.3243183417950601, 0.3271299170518222, 0.3283349167894734, 0.324675313178206, 0.31516940086520956, 0.3160173270722378, 0.31842729249838125, 0.3066899004508143, 0.2965591179715173, 0.30642210381513674, 0.3025840145122964, 0.3086535495005482, 0.31798101017113073, 0.32436294619337386, 0.32003393611581016, 0.3128933167323254, 0.31873969353237247, 0.31641900500117454, 0.3016468114103226, 0.305484900713163, 0.3010666477898129, 0.31499088112447754, 0.30633286096935025, 0.3055295391606358, 0.3103048315654499, 0.3193644956003549, 0.31338423750704864, 0.3115544357014149, 0.31583880733150577, 0.31824877275764923, 0.31713304991494345, 0.3146784800904863, 0.31682064888095224, 0.31409828242081755, 0.30776098484604725, 0.3204802184430607, 0.317400846550621, 0.32503235265967007, 0.3297184022186977, 0.3324407686788324, 0.34301779943622085, 0.33369037281479735, 0.3251216295546155, 0.30954614820420817, 0.3265051149838398, 0.325389392141134, 0.3124470344050749, 0.30892134613622574, 0.3100370689789314, 0.3205694953380061, 0.3147677229362728, 0.3127594354390661, 0.31338423750704864, 0.3265051149838398, 0.32570182722428426, 0.33203912479905456, 0.33150359962601766, 0.3314589271293859, 0.3373945808243785, 0.3425268786614976, 0.32949524403049296, 0.34029543297608617, 0.3391351057350667, 0.3324407686788324, 0.3336010959198518, 0.33101267885129443, 0.3317266897159044, 0.3283349167894734, 0.32516623395292926, 0.32137281714672067, 0.3196768966343461, 0.3261927479990075, 0.32489847136641076, 0.31856117379164045, 0.31744545094893467, 0.3204802184430607, 0.3191413714613092, 0.32172982257902566, 0.3160173270722378, 0.3205248568905334, 0.317936371723658, 0.32275630257594484, 0.32003393611581016, 0.31668676758769304, 0.3067791432966008, 0.31079575234017315, 0.3160173270722378, 0.31530328215846876, 0.3133395990595758, 0.31195611363035164, 0.298031880295687, 0.28687465186862976, 0.3012005290830721, 0.31182223233709233, 0.3115990741488876, 0.31699916862168426, 0.32454143188494683, 0.32949524403049296, 0.34042938236766346, 0.3345383330709845, 0.3098585492381994, 0.3095907866516809, 0.30664526200334147, 0.29892444495018794, 0.3016468114103226, 0.2999062864996344, 0.29713931564118595, 0.29236402323637184, 0.2796001511918857, 0.26264115036309515, 0.266032957338685, 0.2648279576010338, 0.266568482511722, 0.28531264669867357, 0.257508818476817, 0.265318878375757, 0.2649172344959793, 0.26853216561061494, 0.2738876556850978, 0.2709421310367584, 0.2642924324279969, 0.2537600060689221, 0.22301068724788514, 0.2112286567528454, 0.21399562761129381, 0.2405498516971854, 0.25496497175741434, 0.25661625382231606, 0.2542509268436453, 0.23175795024879892, 0.25237648659053885, 0.24358461919131136, 0.23867541144407894, 0.25224260529727965, 0.2426027776418649, 0.25340296658745814, 0.2607221057116749, 0.26563127940974823, 0.26996028948731193, 0.2705404871569807, 0.25942786312823723, 0.257330298736085, 0.2651849970824978, 0.2571071745970393, 0.26121302648639816, 0.26424779398052406, 0.26295355139708637, 0.2528228029669483, 0.23773820834210524, 0.24327221815732009, 0.24005893092246217, 0.24362922358962508, 0.24541438694778606, 0.24777971392645676, 0.24541438694778606, 0.23970189144099818, 0.2513946790902514, 0.24907395650989445, 0.24992191676608166, 0.24287054022838334, 0.25023431780007294, 0.24657474823796455, 0.24965415417956321, 0.258758422612782, 0.2587138182144682, 0.2664792396659355, 0.2824563989452796, 0.26549739811648904, 0.26223950648331734, 0.2833043251523078, 0.2889275778133092, 0.2843308051492271, 0.2918284640141759, 0.298031880295687, 0.29548803357628434, 0.2906681027239974, 0.29129290479197983, 0.2891060975540412, 0.27214709672525067, 0.2692016061260702, 0.267461081215382, 0.25237648659053885, 0.2605882244184156, 0.258401417180477, 0.27446781930560754, 0.2811175179143692, 0.28343824049472605, 0.27652074525028697, 0.2815638002416196, 0.27777034938625195, 0.2767885078368055, 0.27897534912390326, 0.27469094344465333, 0.26996028948731193, 0.265140358635025, 0.28223324075707484, 0.2788860722289577, 0.27866294808991193, 0.26701479888813145, 0.2694693687125887, 0.25612533304759283, 0.25300132270768033, 0.2441201443643483, 0.24791359521971595, 0.23738120290980025, 0.22421565293637735, 0.2300174253381107, 0.22957114301086018, 0.23572992084489852, 0.2331414356780231, 0.2277413412052265, 0.2363100844654083, 0.22997278689063794, 0.2207792415624737, 0.2211808854422514, 0.20939885494721172, 0.20042843375809316, 0.1814611454320959, 0.18373722956498012, 0.19074396765520568, 0.19712590367744875, 0.1856562742164003, 0.1951622205785558, 0.1844959129262218, 0.18239838258322866, 0.18297854620373838, 0.1807917389657997, 0.20364172099295108, 0.19480521514625082, 0.197259784970708, 0.16793859002636802, 0.17092871907302115, 0.18543311602819557, 0.18137190258630942, 0.1726692780328684, 0.18101486310484544, 0.18213058594755116, 0.17061631803902993, 0.17503460501153906, 0.17494532811659358, 0.17173204088173566, 0.169188194162333, 0.17048243674577068, 0.18230910568828312, 0.18891419989873098, 0.18061321922506768, 0.1796313776756212, 0.18338019008351614, 0.17360648113484212, 0.1798991402621397, 0.18284466491047913, 0.18351410542593438, 0.1825322638764879, 0.19966975039685148, 0.20065159194629795, 0.20399876047441512, 0.21073773597812218, 0.2056500425393168, 0.20190119608226287, 0.20230287401119962, 0.20252599815024536, 0.207390567450005, 0.20855089469102445, 0.21774447406834774, 0.22394789034985885, 0.2231892069886171, 0.22372473216165412, 0.22368012776334034, 0.22729505887797602, 0.22466193526362782, 0.2226090093189484, 0.22046684052848242, 0.2315794305080669, 0.2399696540275167, 0.23742580730811397, 0.24188869867893686, 0.24693178771942853, 0.2410853768702224, 0.2462177087565005, 0.2354175198109073, 0.2359530790331033, 0.23755968860137322, 0.24389702022530257, 0.2510376396087874, 0.2513054021953059, 0.24126389661095438, 0.2306868658535659, 0.22814301913416324, 0.22912482663445072, 0.22394789034985885, 0.2226536477664211, 0.21997591975375919, 0.2167179940714285, 0.18757531886782053, 0.1742312832028246, 0.16936671390306496, 0.1689204315758145, 0.1757932883727808, 0.17137503544943067, 0.1671352682176535, 0.16481457968645558, 0.16512698072044685, 0.16793859002636802, 0.16387737658448187, 0.15419287643243534, 0.15499619824114985, 0.16999151597104745, 0.16825099106035923, 0.17302628346517335, 0.1714196398477444, 0.17597180811351282, 0.18137190258630942, 0.1879323583492845, 0.19560853695496533, 0.19913422522381447, 0.19886642858813697, 0.19667962135019829, 0.1904315666212144, 0.18712903654057, 0.188021601195071, 0.19119024998245615, 0.19297541334061713, 0.19257376946083937, 0.19574241824822458, 0.19208284868611614, 0.18543311602819557, 0.18596867525039157, 0.18454055137369457, 0.18637035317932832, 0.17646272888823605, 0.17543624889131681, 0.17905121405511149, 0.17744457043768253, 0.1798991402621397, 0.16784934718058153, 0.16177981219232968, 0.1686972733876097, 0.17231223855140437, 0.17766769457672826, 0.17896193716016595, 0.17494532811659358, 0.177355293542737, 0.17918509534837074, 0.18248762542901514, 0.1838265064599256, 0.18579015550965955, 0.18333558568520236, 0.19190432894538417, 0.1918596904979114, 0.19654574005693903, 0.19672425979767105, 0.19712590367744875, 0.19476057669877805, 0.19132416532487445, 0.18543311602819557, 0.18244298698154238, 0.21046993934244468, 0.2166733556239558, 0.216093192003446, 0.22430492983132283, 0.21729819174109727, 0.22314456854114434, 0.22350160802260838, 0.2306868658535659, 0.23465883644966556, 0.23662248549939952, 0.23300755438476384, 0.23269515335077262, 0.23381087619347835, 0.2396126485952117, 0.23916633221880218, 0.2384522873050332, 0.23782748523705072, 0.2390770893730157, 0.23528363851764805, 0.23680100524013153, 0.2331414356780231, 0.23108850973334366, 0.2282769004274225, 0.2277413412052265, 0.2240817716431181, 0.22452805397036857, 0.2273396973254488, 0.23180258869627163, 0.23166867335385338, 0.2346141980021928, 0.22193956880349314, 0.21127326115115913, 0.22158256337118815, 0.2327843961965591, 0.2498326398711362, 0.2667916406999267, 0.26389075449906013, 0.25791049640575375, 0.25786585795828093, 0.25777661511249444, 0.26255190751730867, 0.2540277686554406, 0.2547864520166823, 0.2557236551186561, 0.25956174442149643, 0.25166244167676993, 0.255545169427083, 0.2531798083992533, 0.25532201123887827, 0.255545169427083, 0.2592939818349779, 0.26005266519621967, 0.2689338435395517, 0.27004956638225747, 0.27469094344465333, 0.27308433387638337, 0.275985186028091, 0.27562818059578603, 0.275271141114322, 0.2737091359443658, 0.27344133930868836, 0.27138841336400893, 0.27607446292303656, 0.2787521909356984, 0.2668808835457132, 0.2619271054493261, 0.2585352984737362, 0.25773197666502173, 0.2485830357351712, 0.24902931806242168, 0.2411746537651679, 0.23675636679265877, 0.24376313893204332, 0.24666399108375103, 0.24586066927503653, 0.23207035128279013, 0.23492659903618407, 0.22278752905968036, 0.22903558378866423, 0.24188869867893686, 0.2417101789382049, 0.24220109971292814, 0.24965415417956321, 0.24996655521355443, 0.24742270849415177, 0.24992191676608166, 0.2489400752166352, 0.24844915444191196, 0.24425402565760757, 0.23965725299352542, 0.24148705479915916, 0.23796136653030997, 0.2417101789382049, 0.24653010979049178, 0.2513946790902514, 0.25956174442149643, 0.2566608922697888, 0.26509575423671133, 0.26509575423671133, 0.2679073635426325, 0.26857680405808776, 0.27156693310474084, 0.2729504185339651, 0.27344133930868836, 0.27000492793478464, 0.2710313738825449, 0.27433393801234834, 0.2721024923269369, 0.2719686110336776, 0.2679073635426325, 0.2693801258668022, 0.26879992819713344, 0.27143305181148164, 0.27723482421321505, 0.2820547210163428, 0.2825902802385389, 0.28544652799193276, 0.2832150823065213, 0.28227787920454767, 0.28656225083463854, 0.2865176123871657, 0.28558040928519207, 0.28656225083463854, 0.28691929031610247, 0.28642836954137924, 0.2949524743540883, 0.29522027098976583, 0.2952648753880795, 0.2938367515113826, 0.29258714737541763, 0.3256125503293387, 0.32463070877989225, 0.32708531265350854, 0.33248537307714604, 0.33801938289236094, 0.34029543297608617, 0.3419913534884606, 0.3406524724575501, 0.34587404718961473, 0.3535948982919273, 0.355781671480707, 0.355067660616097, 0.3567189086318397, 0.36109252310771717, 0.3629223249133508, 0.3603338397464754, 0.3609140374161441, 0.3621189690554773, 0.3623867997403139, 0.37488284109996356, 0.3711787011887004, 0.3748382367016498, 0.37287455360275684, 0.37367790946063034, 0.37135718688027336, 0.3699290289544174, 0.3719819889482559, 0.3722497515347743, 0.3713125824819596, 0.37787303824493473, 0.378899484192695, 0.3757754738527825, 0.38233592961575763, 0.3751059992881683, 0.38215737582586656, 0.3799259301404551, 0.37867632600449014, 0.37974744444888214, 0.3927790790798868, 0.39420716890742474, 0.3933592086512376, 0.39215427701190436, 0.39233276270347733, 0.3971080891574505, 0.39376092062933327, 0.39215427701190436, 0.3907261190860483, 0.3899674357248067, 0.38309461297699937, 0.3838532963382411, 0.3805061278101239, 0.3839871776315003, 0.3811755342764201, 0.3788548116960631, 0.386709544091635, 0.38595086073039325, 0.39206500011695883, 0.3960369707130585, 0.3922434858085318, 0.39273440658325504, 0.3921096045152726, 0.405185911642909, 0.40933636793058165, 0.40732808043337493, 0.4049627534547043, 0.41580761489692925, 0.4338822704701076, 0.4382559530443029, 0.43499799331281325, 0.43807739925441197, 0.44767265656067196, 0.445887459153352, 0.44486101320559174, 0.4215647148020309, 0.4317847060779553, 0.4341054286583123, 0.4382559530443029, 0.43740799278811565, 0.4353550327942773, 0.43772035977294793, 0.4365600325319285, 0.436827795118447, 0.4327665476274018, 0.4346409538313492, 0.4447717363106462, 0.43798812235946644, 0.4403088449398234, 0.4444146968291823, 0.4427188444151258, 0.4158968236935567, 0.40000894130915815, 0.4052305160412228, 0.3988486140681387, 0.3949658522686665, 0.38595086073039325, 0.404114793198517, 0.3981791395035244, 0.40201722880636487, 0.40094617846029085, 0.4038470306119985, 0.4017941387164781, 0.39246664399673653, 0.4018387431147919, 0.3922434858085318, 0.39376092062933327, 0.3914401980489764, 0.39407328761416555, 0.38800375262591363, 0.39447493149394325, 0.39840229769172913, 0.4004998620838814, 0.4014370992350141, 0.4104967632699192, 0.4161645862800752, 0.41848530886043217, 0.42080603144078915, 0.42500116022509354, 0.4219663586818086, 0.4216539916969763, 0.4297764185807486, 0.43267733883077436, 0.4358906260656323, 0.42294820023125507, 0.41821754627391367, 0.414781100850851, 0.42067215014752984, 0.4523140336230678, 0.4453073295820013, 0.4489668650949507, 0.4597670540405439, 0.465434945149018, 0.46980855962489537, 0.44419160673929553, 0.4538314003455513, 0.46440849920125776, 0.4722185591001978, 0.46931763885017214, 0.45552732085792574, 0.45392067724049673, 0.4526264687062181, 0.4640960641181075, 0.46498862877260844, 0.4618200140343824, 0.46445310359957154, 0.4716383614305291, 0.47806493590024496, 0.4800286189991379, 0.48292947115084556, 0.4831526293390503, 0.4743607278906638, 0.47360204452942206, 0.4707011242793963, 0.4589637662809884, 0.4717722427237883, 0.46891599497039443, 0.46351586644843873, 0.45740172706187315, 0.46454238049451707, 0.45914225197256137, 0.45941001455907987, 0.44753877526741276, 0.435578190982482, 0.42888385392624767, 0.4229035958329413, 0.43446246813977624, 0.43932700339037684, 0.4350872702077588, 0.4388360826156536, 0.4374525971864294, 0.4404427262330826, 0.4359798348622597, 0.4445039737241278, 0.44410232984435, 0.4465122612213344, 0.4467800238078529, 0.4496809440578787, 0.4472263401842625, 0.4516446271567716, 0.46454238049451707, 0.4671754700597062, 0.46400678722316197, 0.44713706328931696, 0.44834206302696816, 0.4479850235455041, 0.45213554793149485, 0.44905614198989613, 0.453519033360719, 0.4786897379682274, 0.49506854112734927, 0.5054224136965331, 0.495827224488591, 0.5012719574088604, 0.5208640478028401, 0.5286741077017802, 0.53117331597371, 0.5375552860451123, 0.5359486424276831, 0.5305485139057275, 0.5274245035658152, 0.5156870774690892, 0.5056009674864239, 0.5146160271230154, 0.510376225842079, 0.5096175424808373, 0.5237202955562341, 0.5318427905383243, 0.5318873949366381, 0.5279600287388522, 0.5234079285714017, 0.507386096795426, 0.5179631956511324, 0.5143928689348105, 0.5088142547212819, 0.5081001757583539, 0.5052885324032736, 0.506672085930816, 0.5068951760207028, 0.5216227311640818, 0.5172937210865183, 0.5198376018550799, 0.519614443666875, 0.5274245035658152, 0.5383585738046677, 0.5299683162360589, 0.5291204240781897, 0.532065880628211, 0.532065880628211, 0.5122507001443446, 0.5123845814376038, 0.5145267502280697, 0.5062703739527201, 0.519792929358448, 0.5196590480651888, 0.5232293747815109, 0.5320212762298973, 0.5291204240781897, 0.5290311471832441, 0.5288525933933532, 0.5332708803658623, 0.5413487028513209, 0.5373321278569074, 0.5503191580895983, 0.5510331689542083, 0.5474629103362045, 0.540947058971543, 0.541125544663116, 0.5285402264085208, 0.5146606315213289, 0.516445760830331, 0.500602550942564, 0.49618426397005494, 0.49823715586557543, 0.4997991950846907, 0.4673093513529654, 0.44941318147136017, 0.47860046107328186, 0.4630249456737155, 0.4434328552797358, 0.44905614198989613, 0.4771723712457439, 0.48444683787332904, 0.4979693932790569, 0.5230508890899377, 0.5205516127196899, 0.5179631956511324, 0.5144821458297559, 0.5208640478028401, 0.5342527219153088, 0.5497389604199296, 0.5471504752530543, 0.545945475515403, 0.5320212762298973, 0.5374214047518528, 0.5401437712119876, 0.5394742966473733, 0.5321551575231565, 0.5406792963850247, 0.5542464561890663, 0.5620119116896924, 0.5542018517907525, 0.5473736334412589, 0.5483108024940737, 0.5454992272373114, 0.5333601572608078, 0.5330923946742894, 0.515374710484257, 0.5045745215386637, 0.48712459993514995, 0.5220690475404912, 0.5022984033566205, 0.49399742268295727, 0.4997991950846907, 0.4948899873374582, 0.5025215615448253, 0.5168920772067405, 0.5222029288337506, 0.5024769571465115, 0.5099299775639876, 0.5242112163309574, 0.5205962852163215, 0.5281831869270568, 0.5308162764922462, 0.5356808798411647, 0.5464810687867581, 0.5446958713794379, 0.5222029288337506, 0.4906056497565264, 0.48846348096606046, 0.47819881719350416, 0.4813674319317303, 0.48391131270029203, 0.4754318463350558, 0.4885526897626879, 0.5056902443813696, 0.539028048369282, 0.5404561381968198, 0.5714286152060615, 0.5773642689010541, 0.5813362394971537, 0.5871826162972009, 0.5991431324838137, 0.5926719536157841, 0.5907082705168911, 0.5830767644078421]\n"
          ]
        }
      ]
    },
    {
      "cell_type": "code",
      "source": [
        "#convert x_train & y_train to numpy array"
      ],
      "metadata": {
        "id": "75ycWjFfvagE"
      },
      "execution_count": 102,
      "outputs": []
    },
    {
      "cell_type": "code",
      "source": [
        "x_train=np.array(x_train)\n",
        "y_train=np.array(y_train)"
      ],
      "metadata": {
        "id": "9dr-bkJkwTKJ"
      },
      "execution_count": 103,
      "outputs": []
    },
    {
      "cell_type": "code",
      "source": [
        "#reshape the data\n",
        "x_train.shape"
      ],
      "metadata": {
        "colab": {
          "base_uri": "https://localhost:8080/"
        },
        "id": "Y-rdnsm_weG8",
        "outputId": "ec776954-0bd6-4beb-cb7a-6501883b783c"
      },
      "execution_count": 104,
      "outputs": [
        {
          "output_type": "execute_result",
          "data": {
            "text/plain": [
              "(1542, 60)"
            ]
          },
          "metadata": {},
          "execution_count": 104
        }
      ]
    },
    {
      "cell_type": "code",
      "source": [
        "y_train.shape"
      ],
      "metadata": {
        "colab": {
          "base_uri": "https://localhost:8080/"
        },
        "id": "T5da-YnMwlXH",
        "outputId": "a1eafbff-53c7-4ecf-b058-b000fce27510"
      },
      "execution_count": 105,
      "outputs": [
        {
          "output_type": "execute_result",
          "data": {
            "text/plain": [
              "(1542,)"
            ]
          },
          "metadata": {},
          "execution_count": 105
        }
      ]
    },
    {
      "cell_type": "code",
      "source": [
        "x_train=np.reshape(x_train, (x_train.shape[0],x_train.shape[1], 1))\n",
        "x_train.shape"
      ],
      "metadata": {
        "colab": {
          "base_uri": "https://localhost:8080/"
        },
        "id": "NmibPYJcwnur",
        "outputId": "465f23b6-3d28-4404-cdc0-da832b78cd81"
      },
      "execution_count": 106,
      "outputs": [
        {
          "output_type": "execute_result",
          "data": {
            "text/plain": [
              "(1542, 60, 1)"
            ]
          },
          "metadata": {},
          "execution_count": 106
        }
      ]
    },
    {
      "cell_type": "code",
      "source": [
        "#build the lstm model"
      ],
      "metadata": {
        "id": "ClM-rEwRxnkT"
      },
      "execution_count": 107,
      "outputs": []
    },
    {
      "cell_type": "code",
      "source": [
        "model=Sequential()"
      ],
      "metadata": {
        "id": "aoI5nm68zXU0"
      },
      "execution_count": 108,
      "outputs": []
    },
    {
      "cell_type": "code",
      "source": [
        "model.add(LSTM(50,return_sequences=True, input_shape=(x_train.shape[1],1)))\n",
        "model.add(LSTM(50,return_sequences=False))\n",
        "model.add(Dense(25))\n",
        "model.add(Dense(1))"
      ],
      "metadata": {
        "id": "rFTz80Odzf8y"
      },
      "execution_count": 109,
      "outputs": []
    },
    {
      "cell_type": "code",
      "source": [
        "#compile the model"
      ],
      "metadata": {
        "id": "2r61FxC90bi0"
      },
      "execution_count": 110,
      "outputs": []
    },
    {
      "cell_type": "code",
      "source": [
        "model.compile(\n",
        "    optimizer='adam',\n",
        "    loss='mean_squared_error'\n",
        ")"
      ],
      "metadata": {
        "id": "KDiZBixx0ijT"
      },
      "execution_count": 114,
      "outputs": []
    },
    {
      "cell_type": "code",
      "source": [
        "#train the model"
      ],
      "metadata": {
        "id": "G6IoxYG40z13"
      },
      "execution_count": 115,
      "outputs": []
    },
    {
      "cell_type": "code",
      "source": [
        "model.fit(x_train,y_train, batch_size=1,epochs=1)"
      ],
      "metadata": {
        "colab": {
          "base_uri": "https://localhost:8080/"
        },
        "id": "8DvZBh6503B6",
        "outputId": "94f8c863-97c7-4ac9-cd3d-bf4f5f12fc47"
      },
      "execution_count": 117,
      "outputs": [
        {
          "output_type": "stream",
          "name": "stdout",
          "text": [
            "1542/1542 [==============================] - 39s 23ms/step - loss: 8.6053e-04\n"
          ]
        },
        {
          "output_type": "execute_result",
          "data": {
            "text/plain": [
              "<keras.callbacks.History at 0x7fc40ce7b370>"
            ]
          },
          "metadata": {},
          "execution_count": 117
        }
      ]
    },
    {
      "cell_type": "code",
      "source": [
        "#creating testing datasets\n",
        "#creating numpy array containing scaled value from index 1543 to 2003"
      ],
      "metadata": {
        "id": "3tAFxpzy1Hj-"
      },
      "execution_count": 119,
      "outputs": []
    },
    {
      "cell_type": "code",
      "source": [
        "test_data=scaled_data[training_data_len -60:,:]"
      ],
      "metadata": {
        "id": "Bn3G5_Nu26Jr"
      },
      "execution_count": 120,
      "outputs": []
    },
    {
      "cell_type": "code",
      "source": [
        "#create the test datasets"
      ],
      "metadata": {
        "id": "ChA6gNJJ3VzZ"
      },
      "execution_count": 121,
      "outputs": []
    },
    {
      "cell_type": "code",
      "source": [
        "x_test=[]\n",
        "y_test=datasets[training_data_len:,:]\n"
      ],
      "metadata": {
        "id": "PdOk_GfE3asf"
      },
      "execution_count": 123,
      "outputs": []
    },
    {
      "cell_type": "code",
      "source": [
        "for i in range(60,len(test_data)):\n",
        "  x_test.append(test_data[i-60:i,0 ])"
      ],
      "metadata": {
        "id": "QdTd7l503gjb"
      },
      "execution_count": 124,
      "outputs": []
    },
    {
      "cell_type": "code",
      "source": [
        "#convert the data to numpy array\n",
        "x_test=np.array(x_test)"
      ],
      "metadata": {
        "id": "cK-Xr9ux5xbz"
      },
      "execution_count": 125,
      "outputs": []
    },
    {
      "cell_type": "code",
      "source": [
        "#reshape the data\n",
        "x_test.shape"
      ],
      "metadata": {
        "colab": {
          "base_uri": "https://localhost:8080/"
        },
        "id": "aanJYrxH59pO",
        "outputId": "7093cbf9-1f16-41cf-ca82-bbdf2555befc"
      },
      "execution_count": 126,
      "outputs": [
        {
          "output_type": "execute_result",
          "data": {
            "text/plain": [
              "(400, 60)"
            ]
          },
          "metadata": {},
          "execution_count": 126
        }
      ]
    },
    {
      "cell_type": "code",
      "source": [
        "x_test=np.reshape(x_test,(x_test.shape[0],x_test.shape[1],1))"
      ],
      "metadata": {
        "id": "yFtwW_rW6CKe"
      },
      "execution_count": 127,
      "outputs": []
    },
    {
      "cell_type": "code",
      "source": [
        "predictions=model.predict(x_test)"
      ],
      "metadata": {
        "colab": {
          "base_uri": "https://localhost:8080/"
        },
        "id": "WXQBtvsP6RPJ",
        "outputId": "5ae443c9-cbf1-4933-d937-4db81db0c41e"
      },
      "execution_count": 128,
      "outputs": [
        {
          "output_type": "stream",
          "name": "stdout",
          "text": [
            "13/13 [==============================] - 2s 15ms/step\n"
          ]
        }
      ]
    },
    {
      "cell_type": "code",
      "source": [
        "predictions=scalar.inverse_transform(predictions)\n",
        "predictions"
      ],
      "metadata": {
        "colab": {
          "base_uri": "https://localhost:8080/"
        },
        "id": "ZSZUxpXQ6gwh",
        "outputId": "d678a678-780b-4d78-e8f2-3103c8647b69"
      },
      "execution_count": 131,
      "outputs": [
        {
          "output_type": "execute_result",
          "data": {
            "text/plain": [
              "array([[2630.764 ],\n",
              "       [2639.7102],\n",
              "       [2644.7065],\n",
              "       [2646.3325],\n",
              "       [2648.336 ],\n",
              "       [2649.549 ],\n",
              "       [2652.222 ],\n",
              "       [2654.9597],\n",
              "       [2658.174 ],\n",
              "       [2660.236 ],\n",
              "       [2661.0017],\n",
              "       [2660.1697],\n",
              "       [2664.0107],\n",
              "       [2671.955 ],\n",
              "       [2683.2048],\n",
              "       [2695.745 ],\n",
              "       [2706.6624],\n",
              "       [2712.8948],\n",
              "       [2715.6077],\n",
              "       [2718.0386],\n",
              "       [2717.5615],\n",
              "       [2716.0469],\n",
              "       [2711.1829],\n",
              "       [2705.279 ],\n",
              "       [2694.8357],\n",
              "       [2684.8982],\n",
              "       [2674.674 ],\n",
              "       [2664.7122],\n",
              "       [2651.7712],\n",
              "       [2642.5671],\n",
              "       [2635.6187],\n",
              "       [2632.6265],\n",
              "       [2631.1604],\n",
              "       [2633.8208],\n",
              "       [2632.9336],\n",
              "       [2632.9426],\n",
              "       [2637.2617],\n",
              "       [2647.0283],\n",
              "       [2657.7466],\n",
              "       [2663.8567],\n",
              "       [2672.1228],\n",
              "       [2680.7334],\n",
              "       [2687.8484],\n",
              "       [2694.3088],\n",
              "       [2698.052 ],\n",
              "       [2702.4546],\n",
              "       [2705.897 ],\n",
              "       [2708.7952],\n",
              "       [2713.2744],\n",
              "       [2720.7576],\n",
              "       [2727.768 ],\n",
              "       [2728.7825],\n",
              "       [2725.4   ],\n",
              "       [2720.994 ],\n",
              "       [2734.0627],\n",
              "       [2762.4304],\n",
              "       [2795.4043],\n",
              "       [2828.4558],\n",
              "       [2854.6365],\n",
              "       [2874.9365],\n",
              "       [2892.6934],\n",
              "       [2905.0212],\n",
              "       [2915.6045],\n",
              "       [2925.4788],\n",
              "       [2934.6436],\n",
              "       [2947.259 ],\n",
              "       [2966.5496],\n",
              "       [2983.2048],\n",
              "       [2996.2615],\n",
              "       [3006.2341],\n",
              "       [3014.3604],\n",
              "       [3021.764 ],\n",
              "       [3030.7737],\n",
              "       [3042.1824],\n",
              "       [3058.46  ],\n",
              "       [3078.159 ],\n",
              "       [3101.1477],\n",
              "       [3124.0073],\n",
              "       [3141.815 ],\n",
              "       [3149.4653],\n",
              "       [3149.0193],\n",
              "       [3140.4016],\n",
              "       [3137.885 ],\n",
              "       [3133.7976],\n",
              "       [3138.0774],\n",
              "       [3141.4028],\n",
              "       [3134.844 ],\n",
              "       [3125.5088],\n",
              "       [3116.1736],\n",
              "       [3110.5403],\n",
              "       [3103.498 ],\n",
              "       [3101.7168],\n",
              "       [3104.5747],\n",
              "       [3106.4211],\n",
              "       [3114.8096],\n",
              "       [3126.1792],\n",
              "       [3139.9414],\n",
              "       [3156.2617],\n",
              "       [3176.0767],\n",
              "       [3188.615 ],\n",
              "       [3190.8323],\n",
              "       [3187.4636],\n",
              "       [3186.7708],\n",
              "       [3170.7507],\n",
              "       [3147.3127],\n",
              "       [3135.252 ],\n",
              "       [3121.8972],\n",
              "       [3117.3625],\n",
              "       [3115.6274],\n",
              "       [3107.418 ],\n",
              "       [3102.679 ],\n",
              "       [3101.9475],\n",
              "       [3106.3203],\n",
              "       [3100.4744],\n",
              "       [3098.4597],\n",
              "       [3092.6223],\n",
              "       [3079.5815],\n",
              "       [3066.6235],\n",
              "       [3063.7788],\n",
              "       [3070.8115],\n",
              "       [3058.3667],\n",
              "       [3030.1406],\n",
              "       [3001.5754],\n",
              "       [2985.5625],\n",
              "       [2974.5203],\n",
              "       [2960.8987],\n",
              "       [2931.8237],\n",
              "       [2896.4866],\n",
              "       [2853.842 ],\n",
              "       [2820.092 ],\n",
              "       [2797.2786],\n",
              "       [2770.0835],\n",
              "       [2730.5413],\n",
              "       [2689.8064],\n",
              "       [2646.0186],\n",
              "       [2609.4854],\n",
              "       [2579.6406],\n",
              "       [2566.6226],\n",
              "       [2560.4175],\n",
              "       [2556.6262],\n",
              "       [2564.0288],\n",
              "       [2562.824 ],\n",
              "       [2554.942 ],\n",
              "       [2535.0808],\n",
              "       [2513.6865],\n",
              "       [2492.257 ],\n",
              "       [2473.875 ],\n",
              "       [2461.7317],\n",
              "       [2445.2656],\n",
              "       [2426.3982],\n",
              "       [2411.7605],\n",
              "       [2392.5676],\n",
              "       [2367.2546],\n",
              "       [2332.5413],\n",
              "       [2291.3857],\n",
              "       [2267.6523],\n",
              "       [2252.7373],\n",
              "       [2243.8118],\n",
              "       [2240.9873],\n",
              "       [2241.5295],\n",
              "       [2219.368 ],\n",
              "       [2198.6663],\n",
              "       [2180.036 ],\n",
              "       [2168.6943],\n",
              "       [2165.826 ],\n",
              "       [2167.9226],\n",
              "       [2169.7688],\n",
              "       [2167.7605],\n",
              "       [2168.8408],\n",
              "       [2173.9531],\n",
              "       [2181.7158],\n",
              "       [2191.2783],\n",
              "       [2195.1506],\n",
              "       [2196.9104],\n",
              "       [2195.51  ],\n",
              "       [2200.5342],\n",
              "       [2205.6077],\n",
              "       [2207.704 ],\n",
              "       [2224.4482],\n",
              "       [2247.7642],\n",
              "       [2271.7407],\n",
              "       [2300.674 ],\n",
              "       [2333.0906],\n",
              "       [2363.5342],\n",
              "       [2384.5376],\n",
              "       [2398.0378],\n",
              "       [2404.9817],\n",
              "       [2410.367 ],\n",
              "       [2413.2856],\n",
              "       [2415.757 ],\n",
              "       [2417.1855],\n",
              "       [2418.834 ],\n",
              "       [2422.1494],\n",
              "       [2424.4006],\n",
              "       [2428.9656],\n",
              "       [2436.0393],\n",
              "       [2443.6702],\n",
              "       [2451.6006],\n",
              "       [2456.1428],\n",
              "       [2461.5146],\n",
              "       [2467.9885],\n",
              "       [2473.7627],\n",
              "       [2477.0466],\n",
              "       [2475.7336],\n",
              "       [2473.149 ],\n",
              "       [2479.5378],\n",
              "       [2492.3237],\n",
              "       [2507.9001],\n",
              "       [2526.1855],\n",
              "       [2547.3364],\n",
              "       [2570.3184],\n",
              "       [2589.1833],\n",
              "       [2606.608 ],\n",
              "       [2632.1028],\n",
              "       [2651.887 ],\n",
              "       [2663.3997],\n",
              "       [2666.83  ],\n",
              "       [2668.8206],\n",
              "       [2670.2427],\n",
              "       [2673.195 ],\n",
              "       [2678.538 ],\n",
              "       [2688.7244],\n",
              "       [2702.0188],\n",
              "       [2715.7878],\n",
              "       [2730.2964],\n",
              "       [2748.3108],\n",
              "       [2764.8557],\n",
              "       [2780.656 ],\n",
              "       [2791.6736],\n",
              "       [2799.2073],\n",
              "       [2804.8525],\n",
              "       [2809.0215],\n",
              "       [2818.1243],\n",
              "       [2829.456 ],\n",
              "       [2841.599 ],\n",
              "       [2857.352 ],\n",
              "       [2872.3582],\n",
              "       [2882.429 ],\n",
              "       [2887.6665],\n",
              "       [2890.6272],\n",
              "       [2886.0522],\n",
              "       [2894.1514],\n",
              "       [2904.522 ],\n",
              "       [2918.9834],\n",
              "       [2928.4707],\n",
              "       [2926.0232],\n",
              "       [2918.743 ],\n",
              "       [2906.6514],\n",
              "       [2888.3452],\n",
              "       [2851.6191],\n",
              "       [2815.8003],\n",
              "       [2787.7888],\n",
              "       [2765.1956],\n",
              "       [2746.1172],\n",
              "       [2721.7412],\n",
              "       [2703.441 ],\n",
              "       [2683.8887],\n",
              "       [2661.3083],\n",
              "       [2638.9084],\n",
              "       [2617.944 ],\n",
              "       [2598.677 ],\n",
              "       [2583.788 ],\n",
              "       [2567.5105],\n",
              "       [2549.765 ],\n",
              "       [2543.153 ],\n",
              "       [2546.6357],\n",
              "       [2558.4626],\n",
              "       [2580.3699],\n",
              "       [2608.0308],\n",
              "       [2638.5579],\n",
              "       [2665.8145],\n",
              "       [2688.3281],\n",
              "       [2703.778 ],\n",
              "       [2715.958 ],\n",
              "       [2732.215 ],\n",
              "       [2747.3516],\n",
              "       [2762.7556],\n",
              "       [2775.3826],\n",
              "       [2785.0127],\n",
              "       [2787.4778],\n",
              "       [2793.112 ],\n",
              "       [2799.2747],\n",
              "       [2802.2034],\n",
              "       [2809.1082],\n",
              "       [2818.759 ],\n",
              "       [2831.205 ],\n",
              "       [2843.2107],\n",
              "       [2847.1272],\n",
              "       [2849.0183],\n",
              "       [2852.805 ],\n",
              "       [2854.654 ],\n",
              "       [2857.9465],\n",
              "       [2864.4624],\n",
              "       [2870.558 ],\n",
              "       [2874.0527],\n",
              "       [2879.6443],\n",
              "       [2880.6658],\n",
              "       [2886.8914],\n",
              "       [2897.0967],\n",
              "       [2907.6626],\n",
              "       [2914.651 ],\n",
              "       [2920.419 ],\n",
              "       [2927.9558],\n",
              "       [2933.9424],\n",
              "       [2945.2588],\n",
              "       [2950.3052],\n",
              "       [2945.2917],\n",
              "       [2919.7947],\n",
              "       [2894.078 ],\n",
              "       [2874.1204],\n",
              "       [2865.8784],\n",
              "       [2860.0227],\n",
              "       [2855.3596],\n",
              "       [2865.0852],\n",
              "       [2870.205 ],\n",
              "       [2871.4185],\n",
              "       [2878.1401],\n",
              "       [2892.3574],\n",
              "       [2908.218 ],\n",
              "       [2926.5818],\n",
              "       [2943.5586],\n",
              "       [2942.587 ],\n",
              "       [2939.9907],\n",
              "       [2933.0068],\n",
              "       [2927.067 ],\n",
              "       [2927.6443],\n",
              "       [2930.5708],\n",
              "       [2929.5579],\n",
              "       [2932.4897],\n",
              "       [2943.0957],\n",
              "       [2955.7883],\n",
              "       [2969.4412],\n",
              "       [2985.8745],\n",
              "       [3012.3162],\n",
              "       [3039.1304],\n",
              "       [3056.2737],\n",
              "       [3069.0327],\n",
              "       [3079.4429],\n",
              "       [3090.7478],\n",
              "       [3098.2078],\n",
              "       [3098.1326],\n",
              "       [3096.3796],\n",
              "       [3092.39  ],\n",
              "       [3093.1782],\n",
              "       [3094.1257],\n",
              "       [3093.5051],\n",
              "       [3100.4011],\n",
              "       [3110.6343],\n",
              "       [3112.4373],\n",
              "       [3113.4673],\n",
              "       [3123.5747],\n",
              "       [3136.3843],\n",
              "       [3144.8367],\n",
              "       [3154.6138],\n",
              "       [3168.473 ],\n",
              "       [3191.9678],\n",
              "       [3216.2258],\n",
              "       [3237.1865],\n",
              "       [3252.7383],\n",
              "       [3265.4724],\n",
              "       [3277.1243],\n",
              "       [3293.2515],\n",
              "       [3308.4094],\n",
              "       [3326.451 ],\n",
              "       [3344.1123],\n",
              "       [3364.2114],\n",
              "       [3386.7222],\n",
              "       [3398.5437],\n",
              "       [3404.5183],\n",
              "       [3415.7231],\n",
              "       [3438.6128],\n",
              "       [3466.2612],\n",
              "       [3492.1543],\n",
              "       [3514.4165],\n",
              "       [3535.809 ],\n",
              "       [3555.2156],\n",
              "       [3574.59  ],\n",
              "       [3591.1372],\n",
              "       [3608.3948],\n",
              "       [3620.9077],\n",
              "       [3634.8274],\n",
              "       [3649.592 ],\n",
              "       [3661.6616],\n",
              "       [3666.386 ],\n",
              "       [3665.7102],\n",
              "       [3662.4678],\n",
              "       [3665.653 ],\n",
              "       [3667.8198],\n",
              "       [3675.0305],\n",
              "       [3682.5098],\n",
              "       [3684.536 ],\n",
              "       [3676.8616],\n",
              "       [3669.7063],\n",
              "       [3669.4285],\n",
              "       [3679.9724],\n",
              "       [3687.8943],\n",
              "       [3696.4722],\n",
              "       [3707.7534],\n",
              "       [3719.786 ],\n",
              "       [3736.3801]], dtype=float32)"
            ]
          },
          "metadata": {},
          "execution_count": 131
        }
      ]
    },
    {
      "cell_type": "code",
      "source": [
        "rmse=np.sqrt(np.mean((predictions- y_test)**2))\n",
        "rmse\n",
        "#plot the data"
      ],
      "metadata": {
        "colab": {
          "base_uri": "https://localhost:8080/"
        },
        "id": "9WGCf9S56uPf",
        "outputId": "98e2383b-2e02-43d7-a823-a48af3d79aa7"
      },
      "execution_count": 142,
      "outputs": [
        {
          "output_type": "execute_result",
          "data": {
            "text/plain": [
              "2818.636109975484"
            ]
          },
          "metadata": {},
          "execution_count": 142
        }
      ]
    },
    {
      "cell_type": "code",
      "source": [
        "train=data[:training_data_len]\n",
        "valid=data[training_data_len:]\n",
        "valid['Predictions']=predictions\n",
        "#visualize the data\n",
        "plt.figure(figsize=(16,8))\n",
        "plt.title('Model')\n",
        "plt.xlabel('Date')\n",
        "plt.ylabel('Close Price in USD($)')\n",
        "plt.plot(train['Close'])\n",
        "plt.plot(valid[['Close','Predictions']])\n",
        "plt.legend(['Train','Val','Predictions'],loc='upper left')\n",
        "plt.show()"
      ],
      "metadata": {
        "colab": {
          "base_uri": "https://localhost:8080/",
          "height": 665
        },
        "id": "5OLZ61w-7MPC",
        "outputId": "7a5a5d5d-1e6e-47ef-dc37-51fd77c7b2c5"
      },
      "execution_count": 153,
      "outputs": [
        {
          "output_type": "stream",
          "name": "stderr",
          "text": [
            "<ipython-input-153-17ce51e15541>:3: SettingWithCopyWarning: \n",
            "A value is trying to be set on a copy of a slice from a DataFrame.\n",
            "Try using .loc[row_indexer,col_indexer] = value instead\n",
            "\n",
            "See the caveats in the documentation: https://pandas.pydata.org/pandas-docs/stable/user_guide/indexing.html#returning-a-view-versus-a-copy\n",
            "  valid['Predictions']=predictions\n"
          ]
        },
        {
          "output_type": "display_data",
          "data": {
            "text/plain": [
              "<Figure size 1152x576 with 1 Axes>"
            ],
            "image/png": "[encoded data removed]"
          },
          "metadata": {}
        }
      ]
    },
    {
      "cell_type": "code",
      "source": [
        "plt.figure(figsize=(26,8))\n",
        "plt.plot(train['Close']) + plt.plot(valid[['Close','Predictions']])"
      ],
      "metadata": {
        "colab": {
          "base_uri": "https://localhost:8080/",
          "height": 438
        },
        "id": "e8YNwt0_8tf2",
        "outputId": "f83e1672-abf9-4696-e068-e341c7f22366"
      },
      "execution_count": 154,
      "outputs": [
        {
          "output_type": "execute_result",
          "data": {
            "text/plain": [
              "[<matplotlib.lines.Line2D at 0x7fc40a26d430>,\n",
              " <matplotlib.lines.Line2D at 0x7fc40a225700>,\n",
              " <matplotlib.lines.Line2D at 0x7fc40a225880>]"
            ]
          },
          "metadata": {},
          "execution_count": 154
        },
        {
          "output_type": "display_data",
          "data": {
            "text/plain": [
              "<Figure size 1872x576 with 1 Axes>"
            ],
            "image/png": "[encoded data removed]"
          },
          "metadata": {}
        }
      ]
    },
    {
      "cell_type": "code",
      "source": [
        "\n"
      ],
      "metadata": {
        "id": "0FWZAi_l-sud"
      },
      "execution_count": 154,
      "outputs": []
    },
    {
      "cell_type": "code",
      "source": [
        "#show the valid and predicted prices"
      ],
      "metadata": {
        "id": "9rOXxQOH_udV"
      },
      "execution_count": 155,
      "outputs": []
    },
    {
      "cell_type": "code",
      "source": [
        "valid"
      ],
      "metadata": {
        "colab": {
          "base_uri": "https://localhost:8080/",
          "height": 455
        },
        "id": "O0EfQfNsAqXb",
        "outputId": "f1fac9b5-4008-4fe3-a1a5-ce3c230ef20e"
      },
      "execution_count": 156,
      "outputs": [
        {
          "output_type": "execute_result",
          "data": {
            "text/plain": [
              "                Close  Predictions\n",
              "Date                              \n",
              "2018-05-16  47.044998  2630.763916\n",
              "2018-05-17  46.747501  2639.710205\n",
              "2018-05-18  46.577499  2644.706543\n",
              "2018-05-21  46.907501  2646.332520\n",
              "2018-05-22  46.790001  2648.335938\n",
              "...               ...          ...\n",
              "2019-12-10  67.120003  3687.894287\n",
              "2019-12-11  67.692497  3696.472168\n",
              "2019-12-12  67.864998  3707.753418\n",
              "2019-12-13  68.787498  3719.785889\n",
              "2019-12-16  69.964996  3736.380127\n",
              "\n",
              "[400 rows x 2 columns]"
            ],
            "text/html": [
              "\n",
              "  <div id=\"df-f732432e-531d-4a02-b6f8-5110e5e5fa30\">\n",
              "    <div class=\"colab-df-container\">\n",
              "      <div>\n",
              "<style scoped>\n",
              "    .dataframe tbody tr th:only-of-type {\n",
              "        vertical-align: middle;\n",
              "    }\n",
              "\n",
              "    .dataframe tbody tr th {\n",
              "        vertical-align: top;\n",
              "    }\n",
              "\n",
              "    .dataframe thead th {\n",
              "        text-align: right;\n",
              "    }\n",
              "</style>\n",
              "<table border=\"1\" class=\"dataframe\">\n",
              "  <thead>\n",
              "    <tr style=\"text-align: right;\">\n",
              "      <th></th>\n",
              "      <th>Close</th>\n",
              "      <th>Predictions</th>\n",
              "    </tr>\n",
              "    <tr>\n",
              "      <th>Date</th>\n",
              "      <th></th>\n",
              "      <th></th>\n",
              "    </tr>\n",
              "  </thead>\n",
              "  <tbody>\n",
              "    <tr>\n",
              "      <th>2018-05-16</th>\n",
              "      <td>47.044998</td>\n",
              "      <td>2630.763916</td>\n",
              "    </tr>\n",
              "    <tr>\n",
              "      <th>2018-05-17</th>\n",
              "      <td>46.747501</td>\n",
              "      <td>2639.710205</td>\n",
              "    </tr>\n",
              "    <tr>\n",
              "      <th>2018-05-18</th>\n",
              "      <td>46.577499</td>\n",
              "      <td>2644.706543</td>\n",
              "    </tr>\n",
              "    <tr>\n",
              "      <th>2018-05-21</th>\n",
              "      <td>46.907501</td>\n",
              "      <td>2646.332520</td>\n",
              "    </tr>\n",
              "    <tr>\n",
              "      <th>2018-05-22</th>\n",
              "      <td>46.790001</td>\n",
              "      <td>2648.335938</td>\n",
              "    </tr>\n",
              "    <tr>\n",
              "      <th>...</th>\n",
              "      <td>...</td>\n",
              "      <td>...</td>\n",
              "    </tr>\n",
              "    <tr>\n",
              "      <th>2019-12-10</th>\n",
              "      <td>67.120003</td>\n",
              "      <td>3687.894287</td>\n",
              "    </tr>\n",
              "    <tr>\n",
              "      <th>2019-12-11</th>\n",
              "      <td>67.692497</td>\n",
              "      <td>3696.472168</td>\n",
              "    </tr>\n",
              "    <tr>\n",
              "      <th>2019-12-12</th>\n",
              "      <td>67.864998</td>\n",
              "      <td>3707.753418</td>\n",
              "    </tr>\n",
              "    <tr>\n",
              "      <th>2019-12-13</th>\n",
              "      <td>68.787498</td>\n",
              "      <td>3719.785889</td>\n",
              "    </tr>\n",
              "    <tr>\n",
              "      <th>2019-12-16</th>\n",
              "      <td>69.964996</td>\n",
              "      <td>3736.380127</td>\n",
              "    </tr>\n",
              "  </tbody>\n",
              "</table>\n",
              "<p>400 rows × 2 columns</p>\n",
              "</div>\n",
              "      <button class=\"colab-df-convert\" onclick=\"convertToInteractive('df-f732432e-531d-4a02-b6f8-5110e5e5fa30')\"\n",
              "              title=\"Convert this dataframe to an interactive table.\"\n",
              "              style=\"display:none;\">\n",
              "        \n",
              "  <svg xmlns=\"http://www.w3.org/2000/svg\" height=\"24px\"viewBox=\"0 0 24 24\"\n",
              "       width=\"24px\">\n",
              "    <path d=\"M0 0h24v24H0V0z\" fill=\"none\"/>\n",
              "    <path d=\"M18.56 5.44l.94 2.06.94-2.06 2.06-.94-2.06-.94-.94-2.06-.94 2.06-2.06.94zm-11 1L8.5 8.5l.94-2.06 2.06-.94-2.06-.94L8.5 2.5l-.94 2.06-2.06.94zm10 10l.94 2.06.94-2.06 2.06-.94-2.06-.94-.94-2.06-.94 2.06-2.06.94z\"/><path d=\"M17.41 7.96l-1.37-1.37c-.4-.4-.92-.59-1.43-.59-.52 0-1.04.2-1.43.59L10.3 9.45l-7.72 7.72c-.78.78-.78 2.05 0 2.83L4 21.41c.39.39.9.59 1.41.59.51 0 1.02-.2 1.41-.59l7.78-7.78 2.81-2.81c.8-.78.8-2.07 0-2.86zM5.41 20L4 18.59l7.72-7.72 1.47 1.35L5.41 20z\"/>\n",
              "  </svg>\n",
              "      </button>\n",
              "      \n",
              "  <style>\n",
              "    .colab-df-container {\n",
              "      display:flex;\n",
              "      flex-wrap:wrap;\n",
              "      gap: 12px;\n",
              "    }\n",
              "\n",
              "    .colab-df-convert {\n",
              "      background-color: #E8F0FE;\n",
              "      border: none;\n",
              "      border-radius: 50%;\n",
              "      cursor: pointer;\n",
              "      display: none;\n",
              "      fill: #1967D2;\n",
              "      height: 32px;\n",
              "      padding: 0 0 0 0;\n",
              "      width: 32px;\n",
              "    }\n",
              "\n",
              "    .colab-df-convert:hover {\n",
              "      background-color: #E2EBFA;\n",
              "      box-shadow: 0px 1px 2px rgba(60, 64, 67, 0.3), 0px 1px 3px 1px rgba(60, 64, 67, 0.15);\n",
              "      fill: #174EA6;\n",
              "    }\n",
              "\n",
              "    [theme=dark] .colab-df-convert {\n",
              "      background-color: #3B4455;\n",
              "      fill: #D2E3FC;\n",
              "    }\n",
              "\n",
              "    [theme=dark] .colab-df-convert:hover {\n",
              "      background-color: #434B5C;\n",
              "      box-shadow: 0px 1px 3px 1px rgba(0, 0, 0, 0.15);\n",
              "      filter: drop-shadow(0px 1px 2px rgba(0, 0, 0, 0.3));\n",
              "      fill: #FFFFFF;\n",
              "    }\n",
              "  </style>\n",
              "\n",
              "      <script>\n",
              "        const buttonEl =\n",
              "          document.querySelector('#df-f732432e-531d-4a02-b6f8-5110e5e5fa30 button.colab-df-convert');\n",
              "        buttonEl.style.display =\n",
              "          google.colab.kernel.accessAllowed ? 'block' : 'none';\n",
              "\n",
              "        async function convertToInteractive(key) {\n",
              "          const element = document.querySelector('#df-f732432e-531d-4a02-b6f8-5110e5e5fa30');\n",
              "          const dataTable =\n",
              "            await google.colab.kernel.invokeFunction('convertToInteractive',\n",
              "                                                     [key], {});\n",
              "          if (!dataTable) return;\n",
              "\n",
              "          const docLinkHtml = 'Like what you see? Visit the ' +\n",
              "            '<a target=\"_blank\" href=https://colab.research.google.com/notebooks/data_table.ipynb>data table notebook</a>'\n",
              "            + ' to learn more about interactive tables.';\n",
              "          element.innerHTML = '';\n",
              "          dataTable['output_type'] = 'display_data';\n",
              "          await google.colab.output.renderOutput(dataTable, element);\n",
              "          const docLink = document.createElement('div');\n",
              "          docLink.innerHTML = docLinkHtml;\n",
              "          element.appendChild(docLink);\n",
              "        }\n",
              "      </script>\n",
              "    </div>\n",
              "  </div>\n",
              "  "
            ]
          },
          "metadata": {},
          "execution_count": 156
        }
      ]
    },
    {
      "cell_type": "code",
      "source": [
        "#get the quote\n",
        "import yfinance as yf\n",
        "apple_quote = yf.download('AAPL', start = '2012-01-01', end='2019-12-17')"
      ],
      "metadata": {
        "colab": {
          "base_uri": "https://localhost:8080/"
        },
        "id": "ddBVVgitAr55",
        "outputId": "af895bb2-ea7e-4129-a982-963b125ea7e9"
      },
      "execution_count": 166,
      "outputs": [
        {
          "output_type": "stream",
          "name": "stdout",
          "text": [
            "\r[*********************100%***********************]  1 of 1 completed\n"
          ]
        }
      ]
    },
    {
      "cell_type": "code",
      "source": [
        "new_df=apple_quote.filter(['Close'])\n",
        "last_60_days=new_df[-60:].values"
      ],
      "metadata": {
        "id": "jpEWoRzdBTvQ"
      },
      "execution_count": 169,
      "outputs": []
    },
    {
      "cell_type": "code",
      "source": [
        "last_60_days_scaled=scalar.transform(last_60_days)\n",
        "X_test=[]\n",
        "last_60_days_scaled\n",
        "X_test.append(last_60_days_scaled)\n",
        "\n",
        "\n",
        "X_test=np.array(X_test)\n",
        "\n"
      ],
      "metadata": {
        "id": "RoY2kRJQBzhT"
      },
      "execution_count": 176,
      "outputs": []
    },
    {
      "cell_type": "code",
      "source": [
        "\n",
        "X_test=np.reshape(X_test,(X_test.shape[0],X_test.shape[1],1))"
      ],
      "metadata": {
        "id": "g8XPRXwHEOUm"
      },
      "execution_count": 178,
      "outputs": []
    },
    {
      "cell_type": "code",
      "source": [
        "pred_price = model.predict(X_test)\n",
        "pred_price = scalar.inverse_transform(pred_price)\n",
        "print(pred_price)"
      ],
      "metadata": {
        "colab": {
          "base_uri": "https://localhost:8080/"
        },
        "id": "pvmkouq-DCL7",
        "outputId": "67486351-e671-4795-aea9-d6f898f022dd"
      },
      "execution_count": 180,
      "outputs": [
        {
          "output_type": "stream",
          "name": "stdout",
          "text": [
            "1/1 [==============================] - 0s 20ms/step\n",
            "[[66.87312]]\n"
          ]
        }
      ]
    },
    {
      "cell_type": "code",
      "source": [
        "#apple quote 2\n",
        "apple_quote2 = yf.download('AAPL', start = '2019-12-18', end='2019-12-19')"
      ],
      "metadata": {
        "colab": {
          "base_uri": "https://localhost:8080/"
        },
        "id": "4XtV3cSeEzkG",
        "outputId": "8fec2b01-d88e-4b42-a70e-d86bf05f6b07"
      },
      "execution_count": 187,
      "outputs": [
        {
          "output_type": "stream",
          "name": "stdout",
          "text": [
            "\r[*********************100%***********************]  1 of 1 completed\n"
          ]
        }
      ]
    },
    {
      "cell_type": "code",
      "source": [
        "print(apple_quote2['Close'])"
      ],
      "metadata": {
        "colab": {
          "base_uri": "https://localhost:8080/"
        },
        "id": "YcFbGrLUFTkg",
        "outputId": "1e7470b2-1fb7-49db-874a-d06286fad345"
      },
      "execution_count": 188,
      "outputs": [
        {
          "output_type": "stream",
          "name": "stdout",
          "text": [
            "Date\n",
            "2019-12-18    69.934998\n",
            "Name: Close, dtype: float64\n"
          ]
        }
      ]
    },
    {
      "cell_type": "code",
      "source": [
        "#this model predict = quite good as the predict close price is 66 and as of real close price is 69.\n",
        "\n"
      ],
      "metadata": {
        "id": "4j_HpxGoFiSP"
      },
      "execution_count": 189,
      "outputs": []
    },
    {
      "cell_type": "code",
      "source": [
        "import pickle"
      ],
      "metadata": {
        "id": "cnZ0uUH8GgYO"
      },
      "execution_count": 190,
      "outputs": []
    },
    {
      "cell_type": "code",
      "source": [
        "model='model.sav'\n",
        "pickle.dump(model,open(model,'wb'))"
      ],
      "metadata": {
        "id": "2qiWgRK8G9l_"
      },
      "execution_count": 193,
      "outputs": []
    },
    {
      "cell_type": "code",
      "source": [
        "model"
      ],
      "metadata": {
        "colab": {
          "base_uri": "https://localhost:8080/",
          "height": 35
        },
        "id": "2GHKwa8VHLRr",
        "outputId": "07571ccc-c926-40e8-8a0f-0c497ff49853"
      },
      "execution_count": 194,
      "outputs": [
        {
          "output_type": "execute_result",
          "data": {
            "text/plain": [
              "'model.sav'"
            ],
            "application/vnd.google.colaboratory.intrinsic+json": {
              "type": "string"
            }
          },
          "metadata": {},
          "execution_count": 194
        }
      ]
    },
    {
      "cell_type": "code",
      "source": [
        "pickle_model=pickle.load(open('model.sav','rb'))"
      ],
      "metadata": {
        "id": "3OaUmyTOHtiD"
      },
      "execution_count": 198,
      "outputs": []
    },
    {
      "cell_type": "code",
      "source": [
        "print(pickle_model)"
      ],
      "metadata": {
        "colab": {
          "base_uri": "https://localhost:8080/"
        },
        "id": "3GNI1U4eIGGO",
        "outputId": "06fc2a60-1d7a-4ac2-af62-328198a07b4d"
      },
      "execution_count": 199,
      "outputs": [
        {
          "output_type": "stream",
          "name": "stdout",
          "text": [
            "model.sav\n"
          ]
        }
      ]
    },
    {
      "cell_type": "code",
      "source": [],
      "metadata": {
        "id": "Ghs7XfW0Ip_o"
      },
      "execution_count": null,
      "outputs": []
    }
  ]
}